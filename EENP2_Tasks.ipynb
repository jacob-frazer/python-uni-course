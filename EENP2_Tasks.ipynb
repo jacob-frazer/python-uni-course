{
 "cells": [
  {
   "cell_type": "markdown",
   "metadata": {
    "nbgrader": {
     "grade": false,
     "grade_id": "cell-43bdec677610b3bd",
     "locked": true,
     "schema_version": 1,
     "solution": false
    }
   },
   "source": [
    "# <center> Numerical solution of PDEs\n",
    "    \n",
    "<center> Department of Physics, University of Surrey module: Energy, Entropy and Numerical Physics (PHY2063)"
   ]
  },
  {
   "cell_type": "markdown",
   "metadata": {},
   "source": [
    "## Table of Contents:\n",
    "\n",
    "* [Numerical Physics part of Energy, Entropy and Numerical Physics](#EENP-intro)\n",
    "* [Introduction on Solving Partial Differential Equations](#pdes-intro)\n",
    "* [Mathematics of diffusion in one dimension](#1d-diffusion)\n",
    "* [Numerical solution of the diffusion PDE in one dimension](#1d-numerical-pdes)\n",
    "* [Approximate formulas for the derivatives in one dimension](#1d-deriv-formula)\n",
    "* [Task 1](#task-1)\n",
    "* [Task 2](#task-2)"
   ]
  },
  {
   "cell_type": "markdown",
   "metadata": {
    "nbgrader": {
     "grade": false,
     "grade_id": "cell-2ea94867717cb78b",
     "locked": true,
     "schema_version": 1,
     "solution": false
    }
   },
   "source": [
    "#### Learning Objectives:\n",
    "> Revision on some basic concepts of PDEs\n",
    "\n",
    "> Discussion of why PDEs are an important subject in numerical physics\n",
    "\n",
    "> Look at specific example of diffusion equation in 1D and demonstrate the other mathematical equations that're required for us to solve it numerically\n",
    "\n",
    "\n",
    "\n",
    "## 1) Numerical Physics part of Energy, Entropy and Numerical Physics <a class=\"anchor\" id=\"EENP-intro\"></a>\n",
    "\n",
    "This numerical physics course is part of the second-year\n",
    "Energy, Entropy and Numerical Physics (PHY2063) module,\n",
    "and is online at the EENP module on SurreyLearn.\n",
    "See there for assignments, deadlines etc.\n",
    "The course is about numerically solving ODEs (ordinary differential equations) and\n",
    "PDEs (partial differential equations), and introducing the\n",
    "Monte Carlo technique and Bayesian statistics.\n",
    "\n",
    "This part of the course is on PDEs.\n",
    "PDEs are very common in physics. Maxwell's equations that govern electromagnetism\n",
    "are PDEs, as is Schrödinger's equation in quantum mechanics.\n",
    "Heat and particle diffusion obey PDEs, as do waves."
   ]
  },
  {
   "cell_type": "markdown",
   "metadata": {
    "nbgrader": {
     "grade": false,
     "grade_id": "cell-2387a1b697d5c69a",
     "locked": true,
     "schema_version": 1,
     "solution": false
    }
   },
   "source": [
    "## 2) Introduction on Solving Partial Differential Equations <a class=\"anchor\" id=\"pdes-intro\"></a>\n",
    "\n",
    "These notes aim to provide insight into how second-order partial\n",
    "differential equations (PDEs) are solved on a computer.\n",
    "We will only consider second-order PDEs as these are by far the most\n",
    "common in physics.\n",
    "\n",
    "In this part of the course we will consider an example of a time-dependent PDE, in\n",
    "one dimension. We will consider the diffusion PDE as an example of a time-dependent PDE.\n",
    "Diffusion is a very common phenomenon in physics. Electrons diffuse in metals and\n",
    "semiconductors, molecules diffuse in liquids, etc., and thermal energy also moves\n",
    "via diffusion in solids. \n",
    "\n",
    "PDEs are a very important topic to cover in numerical physics since as stated above they are a very common occurance in physics for describing physical systems. This means being able to accurate solve them is imperative to appropriately model some systems. In this notebook you will only learn a very basic method for solving a PDE however like for ODEs there are specialised python packages designed specifically for solving them. However these packages typically aren't intrinsic python packages and thus would require installation, additionally they're quite overkill for our purposes and so we won't be touching on them in this course, but if you are interested in learning about them for yourself you can find a wide range of resources available online. "
   ]
  },
  {
   "cell_type": "markdown",
   "metadata": {
    "nbgrader": {
     "grade": false,
     "grade_id": "cell-7855ffe6d743865c",
     "locked": true,
     "schema_version": 1,
     "solution": false
    }
   },
   "source": [
    "## 3) Mathematics of diffusion in one dimension <a class=\"anchor\" id=\"1d-diffusion\"></a>\n",
    "\n",
    "In solids thermal energy typically moves via diffusion (in fluids convection also moves thermal energy around). If a solid is hot in one place\n",
    "and colder in another, then diffusion is the process whereby thermal energy\n",
    "moves from hot regions to cold regions, and so ultimately makes the temperature\n",
    "uniform. As you have learnt or will learn in the EENP lectures, at equilibrium\n",
    "the temperature is uniform.\n",
    "\n",
    "So, to model the evolution in time and space of the temperature of a solid, $T$, we\n",
    "need the diffusion PDE for the temperature $T$. This is\n",
    "\n",
    "$$\n",
    "\\frac{\\partial T({\\bf r},t)}{\\partial t}=D\\nabla^2 T({\\bf r},t)\n",
    "$$\n",
    "\n",
    "Here $D$ is the diffusion constant for the temperature.\n",
    "$D$ has dimensions of length squared over time.\n",
    "For diffusion in one dimension, along the $x$ axis,\n",
    "this simplifies to\n",
    "\n",
    "$$\n",
    "\\frac{\\partial T(x,t)}{\\partial t}=D\\frac{\\partial^2 T(x,t)}{\\partial x^2}\n",
    "$$\n",
    "\n",
    "### 3.1) BCs for the diffusion PDE\n",
    "\n",
    "To obtain a particular solution we need boundary conditions (BCs).\n",
    "An example set of BCs is that\n",
    "at $t=0$ the temperature is $20^{\\circ}$C within\n",
    "1cm of the origin and $0^{\\circ}$C everywhere else along the $x$ axis.\n",
    "We assume that\n",
    "the system is effectively infinite along the $x$ axis, i.e., that\n",
    "heat can diffuse out to $x\\to\\pm\\infty$.\n",
    "Then the BCs are\n",
    "\n",
    "$$\n",
    "T(x,t=0)=\\left\\{\\begin{array}{cc}\n",
    "0^{\\circ}\\mbox{C} &  x < -1~\\mbox{cm}\\\\\n",
    "20^{\\circ}\\mbox{C} & -1~\\mbox{cm} \\le x \\le 1~\\mbox{cm}\\\\\n",
    "0^{\\circ}\\mbox{C} & x > 1~\\mbox{cm}\n",
    "\\end{array}\\right.\n",
    "$$\n",
    "\n",
    "These BCs plus the diffusion PDE allow us to calculate $T(x,t)$ at all times.\n",
    "\n",
    "Note that these BCs are initial conditions, i.e., the function at $t=0$. They are what\n",
    "we have if we know what the temperature profile is at one instant, and want to know\n",
    "what it will look like in the future. These are very common BCs."
   ]
  },
  {
   "cell_type": "markdown",
   "metadata": {
    "nbgrader": {
     "grade": false,
     "grade_id": "cell-e1e7e2f6dbc7f2d0",
     "locked": true,
     "schema_version": 1,
     "solution": false
    }
   },
   "source": [
    "## 4) Numerical solution of the diffusion PDE in one dimension <a class=\"anchor\" id=\"1d-numerical-pdes\"></a>\n",
    "\n",
    "Now that we know the mathematics we need to solve, we will look at how\n",
    "we will numerically solve this PDE.\n",
    "\n",
    "### 4.1) Numerical solution is in the form of an array\n",
    "\n",
    "We will not determine the function $T(x)$ at all values of $x$,\n",
    "but will again discretise space into points $h$ apart.\n",
    "In one dimension this means that we are solving for a one-dimensional\n",
    "array ${\\tt temp[i]}$.\n",
    "For small $h$ this will be a good approximation to the function. This array, i.e.,\n",
    "its values, will depend on time $t$.\n",
    "\n",
    "For example, if we want the temperature $T$ at $h=0.1$cm\n",
    "intervals over a total length 80cm in the $x$ direction, and centred\n",
    "at the origin, we need a grid of 801 $x$-values for ${\\tt temp}$ the array of values of the temperature."
   ]
  },
  {
   "cell_type": "code",
   "execution_count": 8,
   "metadata": {
    "nbgrader": {
     "grade": false,
     "grade_id": "cell-f0bd92fcf3c9f16f",
     "locked": true,
     "schema_version": 1,
     "solution": false
    }
   },
   "outputs": [],
   "source": [
    "import numpy as np\n",
    "\n",
    "# note the 0th index corresponds to -40cm as it is centered at the origin (index 400 corresponds to the origin 0cm)\n",
    "temp = np.zeros(801)"
   ]
  },
  {
   "cell_type": "markdown",
   "metadata": {
    "nbgrader": {
     "grade": false,
     "grade_id": "cell-c0705ba548807be0",
     "locked": true,
     "schema_version": 1,
     "solution": false
    }
   },
   "source": [
    "Note that here we want to model a\n",
    "system that is infinite along the $x$ axis, but of course we\n",
    "cannot have an infinite array. So\n",
    "we need to define the array to be big enough so that\n",
    "the during the time interval we are interested in, the temperature diffusion is\n",
    "confined to the region of the $x$ axis where we do have points.\n",
    "As diffusion tends to spread out the profile,\n",
    "an array of this size will be big enough only for diffusion over not too long a time.\n",
    "\n",
    "### 4.2) Boundary conditions on the array\n",
    "\n",
    "Here the BCs are the initial temperature distribution, i.e.,\n",
    "the initial values of the array elements. We will apply the above BCs.\n",
    "The first boundary condition we have already set when we built the array using the \n",
    "numpy zeros command, this set all elements of the array to zero. However we now need to \n",
    "set the elements between $-1$~cm and $+1$~cm to\n",
    "$T=20^{\\circ}$C, using:"
   ]
  },
  {
   "cell_type": "code",
   "execution_count": 13,
   "metadata": {
    "nbgrader": {
     "grade": false,
     "grade_id": "cell-4429ccfa0d20b270",
     "locked": true,
     "schema_version": 1,
     "solution": false
    }
   },
   "outputs": [],
   "source": [
    "for i in range(390,411,1):\n",
    "    temp[i] = 20"
   ]
  },
  {
   "cell_type": "markdown",
   "metadata": {
    "nbgrader": {
     "grade": false,
     "grade_id": "cell-3e3a3b7ef019fafc",
     "locked": true,
     "schema_version": 1,
     "solution": false
    }
   },
   "source": [
    "which will work for $h=0.1$cm, as then there are 20 elements in the range -1cm to 1cm.\n",
    "\n",
    "\n",
    "### Approximate formulas for the derivatives in one dimension <a class=\"anchor\" id=\"1d-deriv-formula\"></a>\n",
    "\n",
    "The Taylor expansion expression for the value\n",
    "of the function $T$ at the point $x+h$,\n",
    "using a Taylor expansion about the point $x$, is\n",
    "\n",
    "$$\n",
    "T(x+h)=T(x)+ \\left(\\frac{\\partial T(x)}{\\partial x}\\right)_xh+\n",
    "\\frac{1}{2}\n",
    "\\left(\\frac{\\partial^2 T(x)}{\\partial x^2}\\right)_{xx}h^2+\n",
    " \\cdots\n",
    "$$\n",
    "\n",
    "where both derivatives are evaluated at the point $x$.\n",
    "We denote the first derivative\n",
    "of $T$ by $T_x(x)$, and the second\n",
    "derivative by $T_{xx}(x)$.\n",
    "Then\n",
    "\n",
    "$$\n",
    "T(x+h)=T(x)+ T_x(x)h + \\frac{1}{2}T_{xx}(x)h^2 + \\cdots\n",
    "$$\n",
    "\n",
    "The corresponding equation for the function $T$ at the point $x-h$ is\n",
    "\n",
    "$$\n",
    "T(x-h)=T(x)- T_x(x)h + \\frac{1}{2}T_{xx}(x)h^2 + \\cdots\n",
    "$$\n",
    "\n",
    "If we add the\n",
    "equations for $T(x-h)$ and $T(x+h)$, we get\n",
    "\n",
    "$$\n",
    "T(x+h)+T(x-h)=2T(x) + T_{xx}(x)h^2 + \\cdots\n",
    "$$\n",
    "\n",
    "We can easily rearrange this to give us an equation for the second\n",
    "derivative, which is what we need. It is\n",
    "\n",
    "$$\n",
    "T_{xx}(x)=\\frac{T(x+h)-2T(x)+T(x-h)}{h^2}\n",
    "$$\n",
    "\n",
    "In terms of the array elements, labelled $i$, this\n",
    "becomes\n",
    "\n",
    "$$\n",
    "{\\tt temp\\_xx[i]}={\\tt (temp[i+1]-2.0*temp[i]+temp[i-1]) / h**2} \n",
    "$$\n"
   ]
  },
  {
   "cell_type": "markdown",
   "metadata": {
    "nbgrader": {
     "grade": false,
     "grade_id": "cell-726e5c61326c999e",
     "locked": true,
     "schema_version": 1,
     "solution": false
    }
   },
   "source": [
    "### Task 1 <a class=\"anchor\" id=\"task-1\"></a>\n",
    "\n",
    "In the box below plot the starting boundary conditions. What you should find is a central peak and zero everywhere else, this task shouldn't be difficult but it should help you visualise and conceptualise what is happening in our diffusion model. These boundary conditions decscribe our central point of heat before we effectively start allowing diffusion."
   ]
  },
  {
   "cell_type": "code",
   "execution_count": null,
   "metadata": {},
   "outputs": [],
   "source": [
    "# Plot the initial boundary conditions here"
   ]
  },
  {
   "cell_type": "markdown",
   "metadata": {
    "nbgrader": {
     "grade": false,
     "grade_id": "cell-7e6b59bc7e6356c1",
     "locked": true,
     "schema_version": 1,
     "solution": false
    }
   },
   "source": [
    "### 4.3) Numerical form of the Laplacian in one dimension\n",
    "\n",
    "In one dimension the Laplacian of $T(x,t)$ is just\n",
    "\n",
    "$$\n",
    "\\frac{\\partial^2T}{\\partial x^2}=T_{xx}(x,t)=\\frac{T(x+h,t)-2T(x,t)+T(x-h,t)}{h^2}\n",
    "$$\n",
    "\n",
    "using our formula for derivatives in the above section.\n",
    "In terms of the numbers of the array elements, $i$  this\n",
    "becomes\n",
    "\n",
    "$$\n",
    "{\\tt temp\\_xx[i]}={\\tt (temp[i+1]-2.0*temp[i]+temp[i-1]) / h**2} \n",
    "$$\n",
    "\n",
    "where we call the temperature variable ${\\tt temp}$ and the second\n",
    "derivative of the temperature with respect to $x$, ${\\tt temp\\_xx}$. (Note that ${\\tt \\_}$   is an underscore\n",
    "just jupyter notebook using that font displays it to look like a hyphen). \n",
    "\n",
    "### 4.4) Numerical form of the diffusion equation in one dimension\n",
    "\n",
    "In one dimension the diffusion equation is\n",
    "\n",
    "$$\n",
    "\\frac{\\partial T(x,t)}{\\partial t}=DT_{xx}(x,t)\n",
    "$$\n",
    "\n",
    "Here $D$ is the diffusion constant for temperature (dimensions of length squared\n",
    "over time). Converting this to code is easy, it is just\n",
    "\n",
    "$$\n",
    "{\\tt dtempdt[i]= diffc*temp\\_xx[i]}\n",
    "$$\n",
    "\n",
    "or\n",
    "\n",
    "$$\n",
    "{\\tt dtempdt[i]=diffc*(temp[i+1]-2.0*temp[i]+temp[i-1]) / h**2} \n",
    "$$\n",
    "\n",
    "where ${\\tt dtempdt}$ is the time derivative of the temperature, and ${\\tt diffc}$\n",
    "is the diffusion constant, $D$. This allows us to calculate\n",
    "the values of the time derivative of the temperature at every point $i$.\n",
    "Thus ${\\tt dtempdt}$ will need to be defined as an array. One way to do this,\n",
    "is using the same code as we used to define the ${\\tt temp}$ array. (Although obviouosly the variable\n",
    "needs to be named differently).\n",
    "\n",
    "It is good to use numpy.zeros as it ensures you know what all the values are,\n",
    "i.e., zero. If you do not do this and use numpy.empty then attempt\n",
    "to use a variable or array element that is not been set by you, it\n",
    "can contain any value, which will cause problems. The disadvantage being that it is a bit slower but \n",
    "it's unlikely this marginal speed cost will ever be significant in your code.\n",
    "\n",
    "Once we have the time derivative in ${\\tt dtempdt}$, we can integrate\n",
    "the PDE forward in time using the Euler method (as we used for ODEs) at each point\n",
    "\n",
    "$$\n",
    "{\\tt temp[i]=temp[i]+dt*dtempdt[i]}\n",
    "$$\n",
    "\n",
    "for ${\\tt dt}$ a small time step. Note that for PDEs we need a small step size\n",
    "along the $x$ axis, ${\\tt h}$, and a small step size along the time axis, ${\\tt dt}$.\n",
    "\n",
    "### 4.5) Structure of the program\n",
    "\n",
    "The structure of the program is simple. We need an outer do loop over time that\n",
    "integrates forward in time from the start at $t=0$, up until the end time\n",
    "$t_{end}$, in $n_t$ steps of (small) size $\\delta t$. Nested inside this loop\n",
    "we have two do loops over $x$, one loop follows after the other. \n",
    "The first one calculates the values of $\\partial T/\\partial t$\n",
    "at each position (i.e., the array ${\\tt dtempdt}$),\n",
    "and then the second do loop uses these values in the Euler method to calculate\n",
    "the temperature at all $x$ values, at the next time step.\n",
    "\n",
    "### 4.6) Step sizes and errors\n",
    "\n",
    "As with ODEs, our solution is approximate. Here the size of the error depends on\n",
    "both the step size along the $x$ axis, $h$, and the step size along the time axies, $\\delta t$. The smaller is $h$ (i.e.,\n",
    "the finer is the grid) the smaller the error due to only working with a finite set of points along the $x$ axis. But here as we are integrating with\n",
    "time there is also an error due to the time integration. To keep the error due to the time integration small we can only make small changes\n",
    "in the ${\\tt temp[i]}$ elements at each step.\n",
    "These changes are proportional to $\\delta t$, and to $D$ but also scale as $1/h^2$ (from the $h$\n",
    "dependence in the Laplacian). These numbers combine to form a dimensionless\n",
    "group $(D\\delta t)/h^2$. This group must be much less than one, to keep \n",
    "the errors in the time integration low. If this number is too large, the time integration\n",
    "can even fail, which can cause the program to crash. It is a good idea to write\n",
    "this number to the screen so you can check its value."
   ]
  },
  {
   "cell_type": "markdown",
   "metadata": {
    "nbgrader": {
     "grade": false,
     "grade_id": "cell-b014d54fa4f5ff83",
     "locked": true,
     "schema_version": 1,
     "solution": false
    }
   },
   "source": [
    "### Task 2 <a class=\"anchor\" id=\"task-2\"></a>\n",
    "\n",
    "The method that we are using to solve the diffusion equation is called the forwards difference method (FDM) and it is well documented online and in literature. The task is to look at the following resources to gain a better appreciation and understanding of the method, this will be very useful to you as it is also the method you will employ for your solution in the assessment.\n",
    "\n",
    "<br>  \n",
    "The first resource is the wikipedia article on FDM:\n",
    "\n",
    "https://en.wikipedia.org/wiki/Finite_difference_method\n",
    "    \n",
    "<br>    \n",
    "The second resource is the following online book:\n",
    "\n",
    "http://www.cs.man.ac.uk/~fumie/tmp/introductory-finite-difference-methods-for-pdes.pdf\n",
    "    \n",
    "In this book you should specifically look at chapters 1 and 2 as a general introduction to PDEs, then specifically chapter 5.2 for the diffusion equation that we are covering.\n",
    "\n",
    "<br>  \n",
    "Additionally for the analytical solution of the diffusion equation (very useful for checking if your assessment code is correct) you can see the notes here:\n",
    "\n",
    "http://personal.ph.surrey.ac.uk/~phs1rs/teaching/l3_pdes.pdf\n",
    "    \n",
    "All of these notes are relevant and helpful but particularly the Gaussian solution. "
   ]
  },
  {
   "cell_type": "code",
   "execution_count": null,
   "metadata": {},
   "outputs": [],
   "source": []
  }
 ],
 "metadata": {
  "celltoolbar": "Create Assignment",
  "kernelspec": {
   "display_name": "Python 3",
   "language": "python",
   "name": "python3"
  },
  "language_info": {
   "codemirror_mode": {
    "name": "ipython",
    "version": 3
   },
   "file_extension": ".py",
   "mimetype": "text/x-python",
   "name": "python",
   "nbconvert_exporter": "python",
   "pygments_lexer": "ipython3",
   "version": "3.6.4"
  }
 },
 "nbformat": 4,
 "nbformat_minor": 2
}
