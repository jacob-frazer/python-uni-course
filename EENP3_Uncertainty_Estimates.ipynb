{
 "cells": [
  {
   "cell_type": "markdown",
   "metadata": {},
   "source": [
    "# <center> Numerical Physics with Probabilities: Uncertainty Estimates\n",
    "\n",
    "    \n",
    "    \n",
    "<center> Department of Physics, University of Surrey module: Energy, Entropy and Numerical Physics (PHY2063)"
   ]
  },
  {
   "cell_type": "markdown",
   "metadata": {},
   "source": [
    "## Table of Contents:\n",
    "\n",
    "* [Numerical Physics part of Energy, Entropy and Numerical Physics](#EENP-intro)\n",
    "* [An Introduction to Uncertainty Estimates](#uncertainty-intro)\n",
    "* [The Simplest Uncertainty Estimates](#simple-uncertainty)\n",
    "* [Resampling with the Bootstrap Method](#bootstrap)\n"
   ]
  },
  {
   "cell_type": "markdown",
   "metadata": {},
   "source": [
    "#### Learning Objectives:\n",
    "> Look at simplest uncertainty estimates, in a measurement\n",
    "\n",
    "> Expose the assumptions in the simplest estimates and show what happens when they break down\n",
    "\n",
    "> Show how a more sophisticated method for measuring uncertainty, bootstrap method, is more resistant to breaking down in the examples where our assumptions are wrong\n",
    "\n",
    "\n",
    "## 1) Numerical Physics part of Energy, Entropy and Numerical Physics <a class=\"anchor\" id=\"EENP-intro\"></a>\n",
    "\n",
    "This numerical physics course is part of the second-year\n",
    "Energy, Entropy and Numerical Physics module.\n",
    "It is online at the EENP module on SurreyLearn.\n",
    "See there for assignments, deadlines etc.\n",
    "The course is about numerically solving ODEs (ordinary differential equations) and\n",
    "PDEs (partial differential equations), and introducing the (large)\n",
    "part of numerical\n",
    "physics where probabilities are used as well as some more general data analysis.\n",
    "\n",
    "This assignment is on numerical physics of probabilities, and\n",
    "looks at the Monte Carlo (MC) method, a section of fitting techniques and\n",
    "at the Bayesian statistics approach to data analysis. \n",
    "It covers MC, uncertainty, fitting and Bayesian statistics, in that order, across 4 notebooks.\n",
    "\n",
    "\n",
    "## 2) An Introduction to Uncertainty Estimates <a class=\"anchor\" id=\"uncertainty-intro\"></a>\n",
    "\n",
    "This is the notebook on uncertainty estimates it will begin by showing how we can make basic uncertainty estimates in the very simple example of measurements in a quantity and how to use means and standard deviations to get uncertainty estimates. Then the underlying assumptions in this method are exposed using an example where the method falls over. The hope of this is that by demonstrating the limitations in the method you'll have a better appreciation of both error analysis in general and when it's appropriate to use the basic methods. Then you'll be introduced to the bootstrap method for resampling and seeing how using this can give better quality estimates.\n",
    "\n",
    "Uncertainty estimates are an essential part of physics since whenever practical work is undertaken it will inevitably have limitations and thus you need to present an uncertainty in the value. This topic is also key since it underpins a lot of the work in the fitting section of the course, also it should serve as a nice introduction as you should be somewhat familiar with these concepts already from your lab work.\n",
    "\n",
    "\n",
    "## 3) The Simplest Uncertainty Estimates <a class=\"anchor\" id=\"simple-uncertainty\"></a>\n",
    "\n",
    "The first thing we are going to cover is simply finding the error in a measurement, when the error is random gaussian error. From your lab work you'll obviously be aware that the simplest way to do this is to take the reading multiple times and that if you increase n, the number of readings you take, then you'll return with a better estimate for the true value of the measured quantity. \n",
    "\n",
    "So to demonstrate this we will generate some points with gaussian error about the true value and then calculate our estimate for the true value as well as the uncertainty they produce.\n",
    "\n",
    "You have come across probability before, for example, in quantum\n",
    "physics, and in introductory data analysis. If you want a reminder/description\n",
    "of what is meant by probability/randomness then the Wikipedia\n",
    "Probability page is worth a look.\n",
    "\n",
    "Note on math notation: We will working with probabilities,\n",
    "these are dimensionless things between 0 and 1, where a probability of 0 means something\n",
    "never-happens/is-impossible, and a probability of 1 means something\n",
    "always-happens/is-certain-to-happen. We will also be working with\n",
    "probability density functions, which in general have the dimension\n",
    "of one over the variable they depend on, and vary from 0 to $\\infty$.\n",
    "For example, a probability density function for a variable $x$ which\n",
    "has units of metres, $p(x)$, is defined so that the probability\n",
    "that the variable $x$ lies between $x$ and $x+{\\rm d}x$, is\n",
    "$p(x){\\rm d}x$. As $p(x){\\rm d}x$ is a probability, it\n",
    "is dimensionless and so $p(x)$ has dimensions of\n",
    "m$^{-1}$ (${\\rm d}x$ has dimensions of m)."
   ]
  },
  {
   "cell_type": "code",
   "execution_count": 32,
   "metadata": {},
   "outputs": [
    {
     "name": "stdout",
     "output_type": "stream",
     "text": [
      "The true value of X is 10.0\n",
      "estimate for true value of X 10.0135  which is mean of measurements\n",
      "standard deviation of X measurements  2.87042\n",
      "uncertainty estimate for X measurements  0.0287\n",
      "predict X in range  9.95609  to  10.07091\n",
      "uncertainty estimate works :)\n"
     ]
    },
    {
     "data": {
      "image/png": "[encoded data removed]",
      "text/plain": [
       "<matplotlib.figure.Figure at 0x24ba30a6390>"
      ]
     },
     "metadata": {},
     "output_type": "display_data"
    }
   ],
   "source": [
    "%matplotlib inline\n",
    "import numpy as np\n",
    "import matplotlib.pyplot as plt\n",
    "\n",
    "# first define true value\n",
    "x_true=10.0\n",
    "print('The true value of X is',x_true)\n",
    "\n",
    "# note that if n_pts is small, then uncertainty estimates are so\n",
    "# broad that true value is included, but even then\n",
    "# you should note that estimate is systematically too small\n",
    "n_pts=10000\n",
    "\n",
    "# Gaussian errors range of +-5 (tweak this see how it changes results)\n",
    "errors = np.random.random(n_pts)*10 - 5\n",
    "\n",
    "# Data set - array of measurements - (True value + errors as noise)\n",
    "measurements = errors + x_true\n",
    "\n",
    "# estimate mean\n",
    "x_est=np.average(measurements)\n",
    "print('estimate for true value of X',round(x_est,5),' which is mean of measurements')\n",
    "x_std=np.std(measurements)\n",
    "print('standard deviation of X measurements ',round(x_std,5))\n",
    "\n",
    "# CLT estimate of uncertainty\n",
    "uncertainty_est=x_std/np.sqrt(n_pts)\n",
    "print('uncertainty estimate for X measurements ',round(uncertainty_est,5))\n",
    "print('predict X in range ',round(x_est-2.0*uncertainty_est,5),' to ',round(x_est+2.0*uncertainty_est,5))\n",
    "if(np.abs(x_true-x_est)<2.0*uncertainty_est):\n",
    "    print('uncertainty estimate works :)')\n",
    "else:\n",
    "    print('uncertainty estimare failed :(')\n",
    "\n",
    "\n",
    "# PLOT\n",
    "hist_bins=np.arange(4.5,15.5,1)\n",
    "plt.hist(measurements, rwidth=0.7)\n",
    "plt.xticks(fontsize=12)\n",
    "plt.yticks(fontsize=12)\n",
    "plt.xlabel('measured $X$ value',fontsize=12)\n",
    "plt.ylabel('no. measurements',fontsize=12)\n",
    "plt.xlim(4.5,15.5)\n",
    "plt.show()"
   ]
  },
  {
   "cell_type": "markdown",
   "metadata": {},
   "source": [
    "So what the above code block demonstrates is a standard calculation of the true value of a measured quantity based on repeating measurements with Gaussian error (or noise), then calculating the standard deviation in the measurements and from there calculating the uncertainty using:\n",
    "\n",
    "<br>\n",
    "<center>\n",
    "Uncertainty = $\\sigma/N^{1/2}$\n",
    "</center>\n",
    "    \n",
    "We can then use this uncertainty estimate to see if our estimated value for the measurement falls within uncertainty of the true value. Using a large value of N reduces the uncertainty and it also allows us to have a better estimate of the value, in this example it is overwhelmingly likely that the uncertainty estimate will work.\n",
    "\n",
    "I could go into deeper discussion of this topic but as this is the simplest example it is expected you should already be able to do this, for instance you should be using uncertainty analysis similar to this in many pieces of your lab work. However one key thing to note is that this isn't a flawless method and that it is based on several key assumptions we will discuss now.\n",
    "\n",
    "\n",
    "### 3.1) Breaking the Basic Uncertainty Estimate\n",
    "\n",
    "So we have seen that the above method is quite good as it works in the scenario that was presented. However it isn't particularly sophisticated and relies on several key assumptions meaning that for a system or measurement in which those assumptions don't hold true it is not an appropriate way to determine the uncertainty. This will now be exposed in the following example very similar to what we did above."
   ]
  },
  {
   "cell_type": "code",
   "execution_count": 28,
   "metadata": {},
   "outputs": [
    {
     "name": "stdout",
     "output_type": "stream",
     "text": [
      "true value of X  10.0\n",
      "estimate for true value of X 10.25209  which is mean of measurements\n",
      "standard deviation of X measurements  248.37378\n",
      "uncertainty estimate for X measurements  2.48374\n",
      "predict X in range  5.28461  to  15.21956\n",
      "uncertainty estimate works :)\n"
     ]
    },
    {
     "data": {
      "image/png": "[encoded data removed]",
      "text/plain": [
       "<matplotlib.figure.Figure at 0x24ba4458048>"
      ]
     },
     "metadata": {},
     "output_type": "display_data"
    }
   ],
   "source": [
    "# first define true value\n",
    "x_true=10.0\n",
    "print('true value of X ',x_true)\n",
    "\n",
    "# note that if n_pts is small, then uncertainty estimates are so\n",
    "# broad that true value is included, but even then\n",
    "# you should note that estimate is systematically too small\n",
    "n_pts=10000\n",
    "\n",
    "\n",
    "# alpha is Pareto distribution - Pareto is power law distribution\n",
    "# https://en.wikipedia.org/wiki/Pareto_distribution\n",
    "# note Python Pareto has x_m = 1 I think\n",
    "# NOTE alpha must be > 1 !!\n",
    "alpha=1.2\n",
    "\n",
    "# add power law noise to true value of X    \n",
    "x_measure = (np.random.pareto(alpha, size=n_pts)-alpha/(alpha-1.0) ) + x_true\n",
    "\n",
    "\n",
    "# estimate mean\n",
    "x_est=np.average(x_measure)\n",
    "print('estimate for true value of X',round(x_est,5),' which is mean of measurements')\n",
    "x_std=np.std(x_measure)\n",
    "print('standard deviation of X measurements ',round(x_std,5))\n",
    "\n",
    "# CLT estimate of uncertainty\n",
    "uncertainty_est=x_std/np.sqrt(n_pts)\n",
    "print('uncertainty estimate for X measurements ',round(uncertainty_est,5))\n",
    "print('predict X in range ',round(x_est-2.0*uncertainty_est,5),' to ',round(x_est+2.0*uncertainty_est,5))\n",
    "if(np.abs(x_true-x_est)<2.0*uncertainty_est):\n",
    "    print('uncertainty estimate works :)')\n",
    "else:\n",
    "    print('uncertainty estimare failed :(')\n",
    "\n",
    "\n",
    "#print(x_measure)\n",
    "# PLOT\n",
    "hist_bins=np.linspace(0.1,100.0,20)\n",
    "plt.hist(x_measure,bins=hist_bins)\n",
    "plt.xticks(fontsize=26)\n",
    "plt.yticks(fontsize=26)\n",
    "plt.xlabel('measured $X$ value',fontsize=26)\n",
    "plt.ylabel('no. measurements',fontsize=26)\n",
    "plt.show()"
   ]
  },
  {
   "cell_type": "markdown",
   "metadata": {},
   "source": [
    "There is a very key difference here between this example and the first one we did, the key difference is that in the first example the noise (error) was Gaussian whereas in this example it follows Pareto distribution (often referred to as the 80-20 rule) which is a power law distribution. What this means is that the results are disproportionately skewed towards the lower x values and this can be seen in that it gives us an estimated x value that is too low compared to the true value of x.\n",
    "\n",
    "What this demonstrates is that the only time we can use such a basic technique to determine uncertainty is for very simple data which has Gaussian error. If our data has errors that follow a more complex distribution such as a power law like in the second example with the Pareto distribution defining the noise then we need a different method to determine the uncertainty. It is worth noting that by playing around with the alpha value you can change how the Pareto distribution appears and so if you adjust it to alpha=6 then the uncertainty estimate typically works, additionally bear in mind that it is a statistical model and so sometimes it may work/not work.\n",
    " \n",
    "### 4) Resampling with the Bootstrap Method <a class=\"anchor\" id=\"bootstrap\"></a>\n",
    "\n",
    "The first thing to know in order to understand the bootstrap method is what is meant by resampling. Resampling is a technique that is used in statestics to improve the quality of estimates in a dataset by drawing out other samples. So in a dataset of 10 points it will draw out a smaller sample of those 10 (or all 10) and use that as the data upon which it will perform it's calculation, it then does this N times and the average of these results is (hopefully) a better estimate than if it just did one calculation on the entire sample.\n",
    "\n",
    "You can read more about resampling at https://en.wikipedia.org/wiki/Resampling_(statistics). The specific method that we are going to be employing is the bootstrap method which is one of the most widely used resampling methods along side the jackknife method. The wikipedia page to explain the method is https://en.wikipedia.org/wiki/Bootstrapping_(statistics) Additionally there is an old but excellent paper on the method at https://statistics.stanford.edu/sites/g/files/sbiybj6031/f/BIO%2083.pdf which I highly recommend reading for more insight on the topic.\n",
    "\n",
    "Now we are going to employ the bootstrap method to determine the uncertainty and give us a prediction for the value of X and we can see how it compares to the basic method we used above on the same example of a Pareto distribution."
   ]
  },
  {
   "cell_type": "code",
   "execution_count": 5,
   "metadata": {},
   "outputs": [],
   "source": [
    "# implement bootstrap method of resampling here so for better error apprx.\n",
    "def bootstrap_calc(x,prob_conf_interval):\n",
    "    ''' here I have set the number of times the resampled to 1000, this kind of overkill - making it 100 does not change the\n",
    "    error estimates much - but as the program runs so quickly it would not run noticeably faster if n_bootstrap\n",
    "    is reduced so might as well make n_bootstrap large'''\n",
    "    \n",
    "    n_bootstrap = 1000\n",
    "    n_pts = len(x)\n",
    "    x_vals = np.zeros(n_bootstrap)\n",
    "    \n",
    "    for i in range(0,n_bootstrap):\n",
    "        x_boot=np.zeros(n_pts)\n",
    "        for j in range(0,n_pts):\n",
    "            i_sample=np.random.randint(0,n_pts-1)\n",
    "            x_boot[j]=x[i_sample]\n",
    "        x_vals[i] = np.mean(x_boot)\n",
    "        \n",
    "# sort so later we pick out values near bottom and top\n",
    "    x_vals = np.sort(x_vals)\n",
    "    \n",
    "# now n_bootstrap values are sorted from smallest to largest\n",
    "    f_lower=(1.0-prob_conf_interval)/2.0\n",
    "    f_upper=1.0-f_lower\n",
    "    print('lower and upper limits to confidence interval ',format(f_lower,\"4.2f\"),'&',format(f_upper,\"4.2f\"))\n",
    "    \n",
    "# 95% level confidence - 95% is just a reasonable but basically arbitrary choice\n",
    "    n_boot_lower_conf=int(float(n_bootstrap)*f_lower)\n",
    "    n_boot_upper_conf=int(float(n_bootstrap)*f_upper)\n",
    "    min_x_val = x_vals[n_boot_lower_conf]\n",
    "    max_x_val = x_vals[n_boot_upper_conf]\n",
    "    \n",
    "    return (min_x_val, x_vals, max_x_val)"
   ]
  },
  {
   "cell_type": "code",
   "execution_count": 33,
   "metadata": {},
   "outputs": [
    {
     "name": "stdout",
     "output_type": "stream",
     "text": [
      "estimate that 95.0 % of the bootstrap sampled values fall with the confidence interval\n",
      "lower and upper limits to confidence interval  0.03 & 0.97\n",
      "\n",
      "after boootstrap error analysis the data constrains the value of x to ranges:\n",
      "best fit value of x  10.01  95.0 % conf. interval   9.96  to  10.07\n",
      "compare to known true value of x  10.00\n",
      "uncertainty estimate works :)\n"
     ]
    }
   ],
   "source": [
    "# Bootstrap estimates for statistical error bounds\n",
    "# making this closer to 1 makes interval larger - more conservative error estimates\n",
    "prob_conf_interval=0.95\n",
    "print('estimate that',format(prob_conf_interval*100.0,\"4.1f\"),'% of the bootstrap sampled values fall with the confidence interval')\n",
    "\n",
    "#min_x_val, x_vals, max_x_val = bootstrap_calc(x_measure,prob_conf_interval)\n",
    "min_x_val, x_vals, max_x_val = bootstrap_calc(measurements,prob_conf_interval)\n",
    "\n",
    "est_x_val = np.mean(x_vals)\n",
    "\n",
    "print('')\n",
    "print('after boootstrap error analysis the data constrains the value of x to ranges:')\n",
    "print('best fit value of x ',format(est_x_val,\"5.2f\"),format(prob_conf_interval*100.0,\"5.1f\"),\n",
    "      '% conf. interval ',format(min_x_val,\"5.2f\"),' to ',format(max_x_val,\"5.2f\"))\n",
    "\n",
    "#\n",
    "print('compare to known true value of x ',format(x_true,\"5.2f\"))\n",
    "\n",
    "\n",
    "if (min_x_val <= x_true <= max_x_val):\n",
    "    print('uncertainty estimate works :)')\n",
    "else:\n",
    "    print('uncertainty estimare failed :(')"
   ]
  },
  {
   "cell_type": "markdown",
   "metadata": {},
   "source": [
    "So what you should see from this is that it doesn't give a hugely different result from doing it with the original method and this is to be expected, we also see that it gives a relatively poor estimatate for the power law which again we would expect since just taking the mean of all the values is a poor approximation for a power law. \n",
    "\n",
    "However, what you hopefully will see is that this method IS far more likely to contain the true value of x within our 95% confidence interval (granted since this is a psuedo random process sometimes it won't be but in my anecdotal testing it seemed about 60% likely to). Therefore it is a slight improvement on the basic method which 'never' gets the true value within its uncertainty estimate.\n",
    "\n",
    "This is only one use of the bootstrap method and we will use it more (and more effectively) in the next section of the course, fitting!"
   ]
  },
  {
   "cell_type": "code",
   "execution_count": null,
   "metadata": {},
   "outputs": [],
   "source": []
  }
 ],
 "metadata": {
  "kernelspec": {
   "display_name": "Python 3",
   "language": "python",
   "name": "python3"
  },
  "language_info": {
   "codemirror_mode": {
    "name": "ipython",
    "version": 3
   },
   "file_extension": ".py",
   "mimetype": "text/x-python",
   "name": "python",
   "nbconvert_exporter": "python",
   "pygments_lexer": "ipython3",
   "version": "3.6.4"
  }
 },
 "nbformat": 4,
 "nbformat_minor": 2
}
