{
 "cells": [
  {
   "cell_type": "markdown",
   "metadata": {
    "nbgrader": {
     "grade": false,
     "grade_id": "cell-5241418350c3fff5",
     "locked": true,
     "schema_version": 1,
     "solution": false
    }
   },
   "source": [
    "# <center> Numerical Physics with Probabilities: The Monte Carlo Method and General Probability\n",
    "\n",
    "    \n",
    "    \n",
    "<center> Department of Physics, University of Surrey module: Energy, Entropy and Numerical Physics (PHY2063)"
   ]
  },
  {
   "cell_type": "markdown",
   "metadata": {},
   "source": [
    "## Table of Contents:\n",
    "\n",
    "* [Numerical Physics part of Energy, Entropy and Numerical Physics](#EENP-intro)\n",
    "* [Very brief background note on probabilities](#background-probability)\n",
    "* [Pseudo-Random Numbers](#pseudo-random)\n",
    "* [The Central Limit Theorem](#central-limit-theorem)\n",
    "* [Task 1](#task-1)\n",
    "* [Bayes' Theorem](#bayes)\n",
    "* [Monte Carlo Methods](#monte-carlo)\n",
    "* [Task 2](#task-2)"
   ]
  },
  {
   "cell_type": "markdown",
   "metadata": {
    "nbgrader": {
     "grade": false,
     "grade_id": "cell-e3cacb3149da79f2",
     "locked": true,
     "schema_version": 1,
     "solution": false
    }
   },
   "source": [
    "#### Learning Objectives:\n",
    "> Learn pseudo random numbers and their use in numerical physics\n",
    "\n",
    "> Understand some simple probability theory concepts, CLT and law of large numbers\n",
    "\n",
    "> Demonstrate this understanding by showing how CLT works in real world scenarios and how it fits what we anecdotally expect\n",
    "\n",
    "> Serve as an introduction to the numpy random package \n",
    "\n",
    "> Develop understanding of how Monte Carlo methods work, why they're useful and how to code them\n",
    "\n",
    "> A look at the errors in Monte Carlo processes and proportionality with N\n",
    "\n",
    "\n",
    "## 1) Numerical Physics part of Energy, Entropy and Numerical Physics <a class=\"anchor\" id=\"EENP-intro\"></a>\n",
    "\n",
    "This numerical physics course is part of the second-year\n",
    "Energy, Entropy and Numerical Physics module.\n",
    "It is online at the EENP module on SurreyLearn.\n",
    "See there for assignments, deadlines etc.\n",
    "The course is about numerically solving ODEs (ordinary differential equations) and\n",
    "PDEs (partial differential equations), and introducing the (large)\n",
    "part of numerical\n",
    "physics where probabilities are used as well as some more general data analysis.\n",
    "\n",
    "This assignment is on numerical physics of probabilities, and\n",
    "looks at the Monte Carlo (MC) method, a section of fitting techniques, section on uncertainty estimates and\n",
    "at the Bayesian statistics approach to data analysis. \n",
    "It covers MC, uncertainty, fitting and Bayesian statistics, in that order, across 4 notebooks.\n",
    "\n",
    "MC is a widely used numerical\n",
    "technique, it is used, amongst other things,\n",
    "for modelling many random processes.\n",
    "MC is used in fields from statistical physics,\n",
    "to nuclear and particle physics.\n",
    "\n",
    "Many of you will be analysing data (physics data, commercial data, etc) for\n",
    "your PTY or RY, or future careers. And some will using MC or related modelling techniques.\n",
    "\n",
    "(Davenport and Patil, in the Harvard Business Review,\n",
    "called the job of data scientist \"the sexiest job of the 21st century\"\n",
    "https://hbr.org/2012/10/data-scientist-the-sexiest-job-of-the-21st-century )\n",
    "\n",
    "\n",
    "\n",
    "## 2) Very brief background note on probabilities <a class=\"anchor\" id=\"background-probability\"></a>\n",
    "\n",
    "You have come across probability before, for example, in quantum\n",
    "physics, and in introductory data analysis. If you want a reminder/description\n",
    "of what is meant by probability/randomness then the Wikipedia\n",
    "Probability page is worth a look.\n",
    "\n",
    "Note on math notation: We will working with probabilities,\n",
    "these are dimensionless things between 0 and 1, where a probability of 0 means something\n",
    "never-happens/is-impossible, and a probability of 1 means something\n",
    "always-happens/is-certain-to-happen. We will also be working with\n",
    "probability density functions, which in general have the dimension\n",
    "of one over the variable they depend on, and vary from 0 to $\\infty$.\n",
    "For example, a probability density function for a variable $x$ which\n",
    "has units of metres, $p(x)$, is defined so that the probability\n",
    "that the variable $x$ lies between $x$ and $x+{\\rm d}x$, is\n",
    "$p(x){\\rm d}x$. As $p(x){\\rm d}x$ is a probability, it\n",
    "is dimensionless and so $p(x)$ has dimensions of\n",
    "m$^{-1}$ (${\\rm d}x$ has dimensions of m)."
   ]
  },
  {
   "cell_type": "markdown",
   "metadata": {
    "nbgrader": {
     "grade": false,
     "grade_id": "cell-7419d775ec25b431",
     "locked": true,
     "schema_version": 1,
     "solution": false
    }
   },
   "source": [
    "## 3) Pseudo-Random Numbers <a class=\"anchor\" id=\"pseudo-random\"></a>\n",
    "\n",
    "To implement MC algorithms we need long sequences of random numbers.\n",
    "In practice numerical physics does not use\n",
    "sequences of true random numbers,\n",
    "but sequences of what are called\n",
    "pseudo-random numbers. A sequence of pseudo-random numbers\n",
    "is actually deterministic not random in the sense that if you run\n",
    "the program twice you get the same sequence of numbers.\n",
    "However, the sequence depends on the value of a variable called\n",
    "seed, so you can change that variable and get a different sequence.\n",
    "\n",
    "A pseudo-random-number sequence\n",
    " looks random in the sense that if you look at it\n",
    "you cannot distinguish it from a genuinely random sequence\n",
    "of numbers.\n",
    "For techniques like MC methods pseudo-random numbers\n",
    "are just as good\n",
    "as random numbers.\n",
    "\n",
    "The simplest pseudo-random sequence\n",
    " is a sequence of $N$ pseudo-random numbers\n",
    "uniformly distributed between 0 and 1. This is defined by:\n",
    "\n",
    "\n",
    ">1) The numbers in the sequence of pseudo-random numbers must be uniform\n",
    "in the sense that the numbers are equally likely to fall in\n",
    "any small range of values between $x=0$ and $x=1$, i.e., for any values\n",
    "of $x$ and $\\delta$, the average number of the numbers in the sequence\n",
    "in the range $x$ to $x+\\delta$, is the same.\n",
    "\n",
    ">2) They must be no correlations between numbers in the sequence,\n",
    "i.e.,  the value of one number in the sequence should tell you nothing\n",
    "about the value of the next number. For example, if one number in the sequence\n",
    "is close to 0, this should not mean that the next number is also close to 0.\n",
    "\n",
    "\n",
    "Any sequence that satisfies these requirements can be used in MC\n",
    "programs. For this unit I will be using the numpy.random module but there are\n",
    "many other packages that can serve you with random numbers for instance there\n",
    "is an inbuilt random package in python that can be imported too. However it should\n",
    "be noted that bilt in random generators can give results that vary from one\n",
    "compiler to another, and in some cases they are not perfectly\n",
    "random. Both these things are highly undesirable in research that uses\n",
    "MC codes.\n",
    "\n",
    "The main reason why I will be using the numpy package is that firstly we will\n",
    "likely be using it anyway for its array capabilities but secondly it has built\n",
    "in functions that allow it to pull random numbers from many different distributions\n",
    "which is convenient for us. For instance to pull values from an exponential distribution\n",
    "we can use numpy.random.exponential() and there are functions for all of the most commonly\n",
    "used distributions."
   ]
  },
  {
   "cell_type": "code",
   "execution_count": 2,
   "metadata": {},
   "outputs": [
    {
     "name": "stdout",
     "output_type": "stream",
     "text": [
      "0.24580423382490257\n",
      "Of the 10 random points 4 were above the midpoint value. 40.0 %\n"
     ]
    }
   ],
   "source": [
    "# random numbers demo\n",
    "\n",
    "import numpy as np\n",
    "\n",
    "# setting a seed so the random number will be the same when ran each time. (If seed is commented out then different each time)\n",
    "# the random() function will return a random value between 0 and 1.\n",
    "np.random.seed(12345678)\n",
    "print(np.random.random())\n",
    "\n",
    "# to show that it is psuedo random we can see what proportion of results are above/below the central value:\n",
    "rand_vals = np.random.random(10)\n",
    "#print(rand_vals)    # uncomment this to see all 10 nums\n",
    "\n",
    "larger_than_mp = (rand_vals>0.5)\n",
    "print('Of the',len(larger_than_mp), 'random points', sum(larger_than_mp), 'were above the midpoint value.', 100*sum(larger_than_mp)/len(larger_than_mp), '%')\n",
    "\n",
    "# If you run this multiple times you'll see sometimes it is above the average (5) and sometimes below.\n",
    "# additionally if you increase the amount of numbers being pulled from 10 then you'll find the number above/below\n",
    "# the midpoint converge to the expected 50%. This is a good example of measuring stochastic probability.\n",
    "# It also demonstrates the law of large numbers and how when we are determining probabilities in computing\n",
    "# we are simply running an event many times and then measuring the proportion that meet a criteria"
   ]
  },
  {
   "cell_type": "markdown",
   "metadata": {
    "nbgrader": {
     "grade": false,
     "grade_id": "cell-f7027d093ef5f221",
     "locked": true,
     "schema_version": 1,
     "solution": false
    }
   },
   "source": [
    "## 4) The Central Limit Theorem <a class=\"anchor\" id=\"central-limit-theorem\"></a>\n",
    "\n",
    "In probability theory (the branch of mathematics associated with probability) there are several theorems that are quite intuitive and so you may already understand without formally knowing what they are. The Central Limit Theorem (CLT) may be one of these but we are going to study it properly here as it occurs frequently in Physics particularly Numerical Physics and so it is important you understand it. \n",
    "\n",
    "What the CLT states is that in some cases when independant random variables are added their normalised sum tends towards a normal distribution even if the measurements themselves don't necessarily follow a normal distribution.\n",
    "\n",
    "A simple example of this is the amount of heads or tails expected in a series of flips. "
   ]
  },
  {
   "cell_type": "code",
   "execution_count": 5,
   "metadata": {
    "nbgrader": {
     "grade": false,
     "grade_id": "cell-b871c302d236b078",
     "locked": true,
     "schema_version": 1,
     "solution": false
    }
   },
   "outputs": [
    {
     "data": {
      "image/png": "[encoded data removed]",
      "text/plain": [
       "<matplotlib.figure.Figure at 0x27f2916d390>"
      ]
     },
     "metadata": {},
     "output_type": "display_data"
    }
   ],
   "source": [
    "# numpy random ints with 0 signifying a tails and 1 a heads.\n",
    "import numpy as np\n",
    "from matplotlib import pyplot as plt\n",
    "\n",
    "flips = []\n",
    "\n",
    "# see what happens to the histogram below when you play around with how many times you iterate this loop (repeat the experiment)\n",
    "# and as you change the number of bins in the histogram\n",
    "for i in range(100000):\n",
    "    flips.append(sum(np.random.randint(2, size=100)))\n",
    "\n",
    "plt.hist(flips,bins=20, normed=True)\n",
    "plt.xlabel('Number of Heads')\n",
    "plt.ylabel('Probability')\n",
    "#plt.xlim(40,60)\n",
    "plt.show()"
   ]
  },
  {
   "cell_type": "markdown",
   "metadata": {
    "nbgrader": {
     "grade": false,
     "grade_id": "cell-cf08eb9ba2adb0eb",
     "locked": true,
     "schema_version": 1,
     "solution": false
    }
   },
   "source": [
    "So what the above code clearly shows is that in the limit of large N, or in our case repeating the 100 flips experiment many times the expected results from it appear to follow a normal distribution. This is dispite the fact that flipping a coin clearly won't follow a normal distribution its own results as it either returns 1 or 0.\n",
    "\n",
    "What the above histogram represents is how many heads you're likely to flip if you flip the coin 100 times. As we are only using finite N with psuedo random numbers each time you run the code again it will be slightly different (or drastically so in the case of small N). Hopefully what you realised from changing the number of iterations is that greater N makes the histogram appear to follow a normal distribution more closely, and so from that it becomes apparent that for a sample of infinte N it would be a normal distribution curve (in our case with a mean equal to half the total number of flips).\n",
    "\n",
    "The reason why you may have been familiar with the results of the CLT is that it occurs very frequently and explains the common occurance of the normal distribution or \"bell curve\" for 'real world' data such as electronic noise, examination results and distance covered in random walks. So even though you may not have been familiar with the CLT itself it is very likely you would have experienced the results that it gives you. "
   ]
  },
  {
   "cell_type": "markdown",
   "metadata": {
    "nbgrader": {
     "grade": false,
     "grade_id": "cell-315043b608b4d7af",
     "locked": true,
     "schema_version": 1,
     "solution": false
    }
   },
   "source": [
    "## Task 1) <a class=\"anchor\" id=\"task-1\"></a>\n",
    "\n",
    "Write a python program in the box below to demonstrate the CLT but for the case of rolling a fair six sided die. (Although you can expeirment with other sided die if you'd like.) \n",
    "\n",
    "Start by plotting a histogram of the dice rolls and you should find that they are all equally likely for one instance, then investigate plotting the sum of multiple dice rolls and show how it demonstrates the CLT."
   ]
  },
  {
   "cell_type": "code",
   "execution_count": 8,
   "metadata": {
    "nbgrader": {
     "grade": false,
     "grade_id": "cell-637ac799876230cf",
     "locked": false,
     "schema_version": 1,
     "solution": true
    }
   },
   "outputs": [
    {
     "data": {
      "image/png": "[encoded data removed]",
      "text/plain": [
       "<matplotlib.figure.Figure at 0x27f29473cf8>"
      ]
     },
     "metadata": {},
     "output_type": "display_data"
    },
    {
     "data": {
      "image/png": "[encoded data removed]",
      "text/plain": [
       "<matplotlib.figure.Figure at 0x27f294a3d30>"
      ]
     },
     "metadata": {},
     "output_type": "display_data"
    }
   ],
   "source": [
    "### BEGIN SOLUTION \n",
    "\n",
    "import numpy as np\n",
    "from matplotlib import pyplot as plt\n",
    "\n",
    "# instance of plotting a single fair die.\n",
    "rolls = np.random.randint(6, size=10000)+1\n",
    "bins=[0.5,1.5,2.5,3.5,4.5,5.5,6.5]\n",
    "\n",
    "plt.hist(rolls,bins=bins, density=True, rwidth=0.7)\n",
    "plt.xlabel('Number rolled on die')\n",
    "plt.ylabel('Probability')\n",
    "plt.xlim(0,7)\n",
    "plt.show()\n",
    "    \n",
    "\n",
    "# example of multiple dice rolls summed - this histogram will demonstrate the CLT\n",
    "for i in range(4):\n",
    "    rolls += np.random.randint(6, size=10000)+1\n",
    "\n",
    "bins = np.arange(4.5,30.5,1)\n",
    "\n",
    "plt.hist(rolls, density=True, rwidth=0.7, bins=bins)\n",
    "plt.xlabel('Sum of numbers rolled on die')\n",
    "plt.ylabel('Probability')\n",
    "plt.xlim(4,31)\n",
    "plt.show()\n",
    "    \n",
    "### END SOLUTION"
   ]
  },
  {
   "cell_type": "markdown",
   "metadata": {},
   "source": [
    "## 5) Bayes Theorem <a class=\"anchor\" id=\"bayes\"></a>\n",
    "\n",
    "Bayesian probability is an interpretation on the nature of probability, so rather than being a direct measure of the liklihood of some phenomenon, probability is interpretted as reasonable expectation representing a state of knowledge. This sounds complicated but what it really means is simply that for a hypothesis which may or may not be true it has a probability assigned to it, and as new information is discovered the certainty of the hypothesis changes. The alternative to this being the frequentist approach which usually tests a hypothesis without assigning a probability to the hypothesis, we won't be covering frequentist inference in this notebook although you will have already used it even if you weren't aware at the time. If you would like to learn more on it see the wikipedia page, https://en.wikipedia.org/wiki/Frequentist_inference.\n",
    "\n",
    "In a physics experiment you are usually trying to measure a physical quantity\n",
    "as accurately as possible.\n",
    "This might be, for example, the mean lifetime $\\tau$\n",
    "of a radioactive isotope. It could also\n",
    "be one of millions of other measurable quantities: the\n",
    "mass of a star, the mass of a fundamental particle etc etc.\n",
    "Typically, at the start of the experiment you have a rough\n",
    "idea of the lifetime $\\tau$,\n",
    "and you want to use the\n",
    "results of your experiments to improve\n",
    "upon this initial rough guess. You want\n",
    "to not only obtain an accurate estimate of the value of $\\tau$, \n",
    "but also to obtain an error estimate. This\n",
    "error estimate should give you as much information about\n",
    "the uncertainty in your estimate for $\\tau$ as possible.\n",
    "\n",
    "Bayes' Theorem is one of the best ways of incorporating\n",
    "new knowledge into an existing estimate of the value of a variable so that\n",
    "our uncertainty in this value is reduced by the new data.\n",
    "This idea is essentially\n",
    "something we use informally all the time but without the maths.\n",
    "For example, if I tell you that $X$ is a footballer then the\n",
    "probability that they are a forward is about $2/11$ \n",
    "(assuming a 4-4-2 formation) but if I tell you that\n",
    "they scored 20 goals last season then presumably the footballer is either\n",
    "a forward or an attacking midfielder and so now you would update your estimate\n",
    "and say that\n",
    "the probability that they are a forward is about $1/2$. Bayes'\n",
    "theorem takes this basic idea and converts it into an equation. For more information or a background on Bayes theorem can be found on the wikipedia article at, https://en.wikipedia.org/wiki/Bayesian_inference, or alternatively in many statistical notebooks as it is a widely used and so discussed topic.\n",
    "\n",
    "We are going to learn how to use Bayes' Theorem via a simple example. Estimating the bias for a coin. In the above notes on the CLT we assumed the coin was fair but now we will use a randomly selected bias for a coin and then use Bayes theorem to work out what the value of the bias is.\n",
    "\n",
    "For more notes looking at this specific problem please see: https://www.probabilisticworld.com/calculating-coin-bias-bayes-theorem/. This was what I based this example from and it explains the whole procedure and surrounding theory very well.\n",
    "\n",
    "### 5.1) How unfair is my coin?\n",
    "\n",
    "The first step required to code this example is understanding how bayes theorem works. The theorem is:\n",
    "<br>\n",
    "<center>\n",
    "$ p(A|B) = \\frac{p(B|A)~*~p(A)}{p(B)} $\n",
    "\n",
    "\n",
    "So the posterior probability of event A given evidence B is equal to the likelihood of the evidence B given event A occurs multiplied by the prior probability of A occuring all divided by the prior probability that the evidence B is true. There is a useful video for visualising this done by khan academy that can be found here: https://www.khanacademy.org/math/ap-statistics/probability-ap/stats-conditional-probability/v/bayes-theorem-visualized\n",
    "\n",
    "Fortunately in our example the numbers for these probabilities are very simple, the value of A is likelihood to throw a head and B is probability of a coin having a given bias. So \n",
    "\n",
    "$p(heads|Bias=0.7) = 0.7$ \n",
    "\n",
    "this is assuming the bias is quoted in relation to likelihood of throwing a head and thus $p(tails|Bias=0.7)~=~0.3$ "
   ]
  },
  {
   "cell_type": "markdown",
   "metadata": {},
   "source": [
    "### 5.2) Starting estimate: the Prior probability density\n",
    "\n",
    "The next thing we need is to set an initial guess for the probability density since this is needed to narrow down the true bias of the coin. As we initially have no information we should set each region as being equally as likely to be the true value of the bias. \n",
    "\n",
    "\\begin{array}{cc}\n",
    "0 &  bias < 0  \\\\\n",
    "\\frac{1}{num.~intervals} & 0 \\le bias \\le 1~ \\\\\n",
    "0 &  bias > 1\n",
    "\\end{array}\n",
    "\n",
    "This is obviously a very simple probability space since we know that our coin can potentially have any value of bias but since bias is in itself just a probability of how many heads will be thrown it can never be above 1 or below 0. Then between those values to begin with all are equally likely.\n",
    "\n",
    "### 5.3) Coding Bayes' Theorem\n",
    "\n",
    "First we will need to discretise the heads bias axis, this obviously limits our accuracy but in our case this is irrelevant and we can always make the intervals smaller if we need more accuracy (at the expense of speed). So for this we need to discretise the range of 0 to 1 (inclusive) and I have chosen to use intervals of 0.01. Leaving us with an array of 101 elements.\n",
    "\n",
    "We then set up the prior array for our initial guesses of the probabilities. As discussed above this is equally likely for any of our elements at first so simply setting the value for each of them as $1/101$. Additionally we also need to 'flip a coin' and determine whether it is heads or tails, for this we simply pull a random number between 0 and 1 and check if it is less than our bias, if so it is a head (True) else it's a tails (False).\n",
    "\n",
    "We are now ready to improve the estimation for our bias value by looping through our coin tosses and applying bayes theorem for each one.\n",
    "\n",
    "It is worth noting that as we increase the number of coin flips the peak is going to become larger and narrower as Bayes' makes us more confident in the value of the bias of the coin. Try it for yourself below by changing 'number_of_flips'.\n",
    "\n",
    "You can see the coded solution to our example below."
   ]
  },
  {
   "cell_type": "code",
   "execution_count": 11,
   "metadata": {},
   "outputs": [
    {
     "name": "stdout",
     "output_type": "stream",
     "text": [
      "The true value of the coin throwing a head is 0.3\n"
     ]
    },
    {
     "name": "stderr",
     "output_type": "stream",
     "text": [
      "C:\\Anaconda3\\lib\\site-packages\\ipykernel_launcher.py:22: DeprecationWarning: In future, it will be an error for 'np.bool_' scalars to be interpreted as an index\n"
     ]
    },
    {
     "data": {
      "image/png": "[encoded data removed]",
      "text/plain": [
       "<matplotlib.figure.Figure at 0x27f2929f7f0>"
      ]
     },
     "metadata": {},
     "output_type": "display_data"
    }
   ],
   "source": [
    "# code that demonstrates bayes theorem for example of flipping a coin\n",
    "\n",
    "# range of potential biases (0 to 1 discretised into 0.01 intervals)\n",
    "bias_vals = np.arange(0,1.01,0.01)\n",
    "\n",
    "# original_prob array is a uniform distribution as could have any level of bias\n",
    "original_prob = np.full(len(bias_vals), 1/len(bias_vals))\n",
    "p_bias_heads = original_prob\n",
    "\n",
    "# setting bias of coin - pick specific value to see peak there\n",
    "heads_bias = 0.3\n",
    "#heads_bias = np.random.random()\n",
    "\n",
    "number_of_flips = 100\n",
    "# np array which contains our flip vals, True is heads False is tails\n",
    "flips = np.random.random(size=number_of_flips)\n",
    "flips = flips<heads_bias\n",
    "\n",
    "for i in flips:\n",
    "    # calculating all 3 terms in the theorem for this iteration\n",
    "    prior = p_bias_heads\n",
    "    likelihood = bias_vals**i*(1-bias_vals)**(1-i)\n",
    "    evidence = sum(likelihood * prior)\n",
    "\n",
    "    # updated values of the p_bias due to bayes theorem\n",
    "    p_bias_heads = likelihood * prior / evidence\n",
    "    \n",
    "\n",
    "# plotting outcome\n",
    "plt.xlabel('Estimated Heads Likelihood')\n",
    "plt.ylabel('Probability')\n",
    "plt.plot(p_bias_heads, label='Final Estimate')\n",
    "plt.plot(original_prob, label='Initial Estimate')\n",
    "plt.legend()\n",
    "\n",
    "print('The true value of the coin throwing a head is', heads_bias)"
   ]
  },
  {
   "cell_type": "markdown",
   "metadata": {
    "nbgrader": {
     "grade": false,
     "grade_id": "cell-8dd3486e8bd21642",
     "locked": true,
     "schema_version": 1,
     "solution": false
    }
   },
   "source": [
    "## 6) Monte Carlo Methods <a class=\"anchor\" id=\"monte-carlo\"></a>\n",
    "\n",
    "The Monte Carlo (MC) method gets its name from the part of Monaco famous\n",
    "for its casinos. It is named\n",
    "after casinos because it involves a lot of random numbers. In practice it\n",
    "is not really one\n",
    "method, but a set of related methods. These methods are used all over\n",
    "physics, from particle and\n",
    "nuclear physics, to statistical physics.\n",
    "They are often used to model random processes.\n",
    "\n",
    "For example, when ionising radiation is going through matter, the particles\n",
    "($\\alpha$ and $\\beta$ particles, and photons) scatter off, and\n",
    "are absorbed, by atoms. Both scattering and adsorption are random\n",
    "processes and so are often modelled using MC techniques.\n",
    "Particle, nuclear and medical physicists all use MC codes\n",
    "to calculate the interaction of radiation with matter. \n",
    "\n",
    "Nuclear\n",
    "and particle physicists need to design detectors that absorb and so detect as\n",
    "many as possible of the particles produced (e.g., the particles\n",
    "produced by proton-proton collisions used at the LHC in CERN to detect the Higgs boson)\n",
    "while medical physicists want to design a radiotherapy\n",
    "protocol that delivers as high a dose as possible to the cancer tumour,\n",
    "and as little as possible to healthy tissue. There are MC codes\n",
    "available to do these calculations, called FLUKA, GEANT and SRIM.\n",
    "These are big complex codes, but Task 2 should give you an idea\n",
    "of the principles they use.\n",
    "\n",
    "### 6.1) Monte Carlo Estimation of $\\pi$\n",
    "\n",
    "So often MC is used to model random processes but it can do a\n",
    "lot of other things as well. We will start with a simple classic example.\n",
    "We will use a simple MC method to\n",
    "produce an estimate for $\\pi$. Note that this is just to show\n",
    "how MC methods work, there are much more efficient ways\n",
    "to calculate $\\pi$.\n",
    "Of course, there is nothing random\n",
    "about $\\pi$ but we can use MC to calculate a probability\n",
    "that depends on $\\pi$, and so estimate $\\pi$.\n",
    "\n",
    "To see how this works,\n",
    "run the code block below as it will produce a useful graph. This shows\n",
    "a square of side 2, and hence area 4, which has a circle of radius 1\n",
    "in side it. The circle has an area of $\\pi$. Both the square and the circle\n",
    "are centred at the origin,\n",
    "and both are in the $xy$ plane."
   ]
  },
  {
   "cell_type": "code",
   "execution_count": 25,
   "metadata": {},
   "outputs": [
    {
     "data": {
      "text/plain": [
       "<matplotlib.figure.Figure at 0x27f293f9b00>"
      ]
     },
     "metadata": {},
     "output_type": "display_data"
    },
    {
     "data": {
      "image/png": "[encoded data removed]",
      "text/plain": [
       "<matplotlib.figure.Figure at 0x27f28b2c710>"
      ]
     },
     "metadata": {},
     "output_type": "display_data"
    }
   ],
   "source": [
    "from matplotlib import pyplot as plt\n",
    "\n",
    "# plot to produce diagram of circle with points\n",
    "# Note some of the plt.functions that I have used as they come in handy for producing better plots/images\n",
    "plt.figure(figsize=(8,8))\n",
    "circle = plt.Circle((0,0),1, color='cyan')\n",
    "point_out = plt.Circle((-0.8,0.75),0.02, color='red')\n",
    "point_in = plt.Circle((0.5,0.5),0.02, color='green')\n",
    "fig, ax = plt.subplots() \n",
    "\n",
    "ax.add_artist(circle)\n",
    "ax.add_artist(point_in)\n",
    "ax.add_artist(point_out)\n",
    "plt.xlim(-1,1)\n",
    "plt.ylim(-1,1)\n",
    "plt.text(0.4,0.35,'($x_1$, $y_1$)')\n",
    "plt.text(-0.9,0.6,'($x_2$, $y_2$)')\n",
    "plt.show()"
   ]
  },
  {
   "cell_type": "markdown",
   "metadata": {
    "nbgrader": {
     "grade": false,
     "grade_id": "cell-a25a38a7793966c6",
     "locked": true,
     "schema_version": 1,
     "solution": false
    }
   },
   "source": [
    "What the above code has produced is a square of side length 2, centred at the origin,\n",
    "with a circle of radius 1 inside it. Both are in the $xy$ plane.\n",
    "Shown are two points inside the square in the $xy$ plane.\n",
    "Each point is indicated by the vector position $(x_i,y_i)$.\n",
    "One is inside the circle, and one is outside.\n",
    "\n",
    "To obtain an estimate for $\\pi$, we proceed as follows.\n",
    "First, we generate a random number, $x_1$,\n",
    "uniformly between $-1$ and $+1$; we take this as our random position\n",
    "along the $x$ axis, and inside the square. We then generate a second\n",
    "random number, $y_1$, between $-1$ and $+1$ and take this to be\n",
    "to our random position along the $y$ axis. This pair\n",
    "of numbers, $(x_1,y_1)$ is then a position vector for a point that\n",
    "is distributed at random within the square in shown above.\n",
    "\n",
    "We then put generating this position vector inside a do loop and generate\n",
    "a set of $N$ random points inside the square:\n",
    "$(x_1,y_1)$, $(x_1,y_2)$, $(x_3,y_3)$, $\\ldots$, $(x_N,y_N)$.\n",
    "See the 'Random numbers' box below for how we calculate random numbers\n",
    "on a computer.\n",
    "\n",
    "Now the MC method for estimating $\\pi$ works as follows. The probability that a\n",
    "randomly selected point inside the square falls inside the circle,\n",
    "call it $p_{circ}$, is simply the ratio of the area of the circle\n",
    "to the area of the square\n",
    "\n",
    "$$\n",
    "p_{circ}=\\frac{\\mbox{area of circle}}{\\mbox{area of square}}=\\frac{\\pi}{4}\n",
    "$$\n",
    "\n",
    "but for large $N$, $p_{circ}$ is well approximated by the fraction\n",
    "of the $N$ random points that fall inside the circle. If we write\n",
    "the number of points that fall inside the circle as $N_{circ}$, then\n",
    "\n",
    "$$\n",
    "p_{circ}\\simeq\\frac{N_{circ}}{N}\n",
    "$$\n",
    "\n",
    "Combining these two equations we get\n",
    "\n",
    "\\begin{equation}\n",
    "\\pi_{est}\\simeq \\frac{4N_{circ}}{N}\n",
    "\\label{pi_est}\n",
    "\\end{equation}\n",
    "\n",
    "To calculate the right-hand side all we do is generate say $N=1000$\n",
    "points inside the square, using a for loop. Then for each point we work out if it is inside the\n",
    "circle, and so calculate $N_{circ}$.\n",
    "With \n",
    "values for $N$ and $N_{circ}$, we can use the above\n",
    "equation and get $\\pi_{est}$, which is our estimate for the value of $\\pi$. Simple."
   ]
  },
  {
   "cell_type": "markdown",
   "metadata": {
    "nbgrader": {
     "grade": false,
     "grade_id": "cell-3eadc03361ce2363",
     "locked": true,
     "schema_version": 1,
     "solution": false
    }
   },
   "source": [
    "### 6.1.1) Coding the MC estimation of $\\pi$\n",
    "\n",
    "To generate the pairs $(x_i,y_i)$ we need random numbers in the range $-1$ to $+1$.\n",
    "The numpy.random package has many functions that are useful getting random numbers,\n",
    "specifically for this problem  we will be using the function, numpy.random.random.\n",
    "This function returns us an array with a shape we determine filled with random numbers\n",
    "in the interval of 0 to 1. This means we will need to operate on it to get random numbers\n",
    "in the range we want.\n",
    "\n",
    "In order to do this we simply need to multiply the values of the array by 2 then subtract 1\n",
    "from every value then it will be in the correct range. (Or minus 0.5 then multiply by 2 after).\n",
    "\n",
    "So we need to generate a suitable amount of random points for our MC estimation, and we need to do this\n",
    "for both the x and y directions. After this is done we can simply create a third array which is the\n",
    "radial distances of the pairs of x,y values by operating on both arrays (as numpy arrays support index-index\n",
    "operations).\n",
    "\n",
    "The final step is to check which of the points lay within the area of the circle, this is done \n",
    "by seeing if the radial distance value is less than 1. Numpy arrays also support comparisons which returns \n",
    "a boolean array of the same size, then since python treats True as being equal to 1 and False as 0 we\n",
    "can simply sum this array to determine how many fall within the range of the circle. It's then simply a case\n",
    "of applying the equation we derived above for the estimation of $\\pi$ since we know all the variables know.\n",
    "\n",
    "This isn't the only way to implement this solution, you could also do it using a for loop and pulling random\n",
    "numbers each iteration it would just be less efficient. You will often find in programming there are multiple \n",
    "ways to solve the same problem."
   ]
  },
  {
   "cell_type": "markdown",
   "metadata": {
    "nbgrader": {
     "grade": false,
     "grade_id": "cell-d9f0bc94c13912e1",
     "locked": true,
     "schema_version": 1,
     "solution": false
    }
   },
   "source": [
    "## Task 2) <a class=\"anchor\" id=\"task-2\"></a>\n",
    "\n",
    "Write a python program in the box below to estimate the value of $\\pi$.\n",
    "This should generate $N$ points inside a square of\n",
    "side 2, as  shown in the above figure.\n",
    "Then $\\pi$ is estimated by calculating the fraction of\n",
    "these $N$ points that lie within a circle of radius 1 inside this square, and then \n",
    "using the equation derived to calculate $\\pi$.\n",
    "\n",
    "The program should write out the estimate for $\\pi$, $\\pi_{est}$,\n",
    "the error, i.e, $\\pi_{est}-\\pi$ and the number of points\n",
    "used, $N$. If you increase $N$ you should\n",
    "see that the error decreases.\n",
    "\n",
    "Run the program multiple times with increasing and decreasing values on $N$, then\n",
    "plot how this effects the error, does it decrease linearly with $N$, $N^2$, $N^{1/2}$?\n",
    "Hint: do a log log plot then fit linearly to the data.\n"
   ]
  },
  {
   "cell_type": "code",
   "execution_count": 23,
   "metadata": {
    "nbgrader": {
     "grade": false,
     "grade_id": "cell-8b886613331ecbed",
     "locked": false,
     "schema_version": 1,
     "solution": true
    }
   },
   "outputs": [
    {
     "data": {
      "image/png": "[encoded data removed]",
      "text/plain": [
       "<matplotlib.figure.Figure at 0x27f29329438>"
      ]
     },
     "metadata": {},
     "output_type": "display_data"
    }
   ],
   "source": [
    "### BEGIN SOLUTION \n",
    "\n",
    "import numpy as np\n",
    "\n",
    "N_vals = np.array([1,5,10,50,100,500,1e3,5e3,1e4,5e4,1e5,5e5,1e6,5e6,1e7])\n",
    "N_vals = N_vals.astype(int)\n",
    "errors = []\n",
    "\n",
    "for N in N_vals:\n",
    "    # number of points for MC estimation\n",
    "    x_vals = (np.random.random(N)*2)-1\n",
    "    y_vals = (np.random.random(N)*2)-1\n",
    "\n",
    "    radial_dists = (x_vals**2 + y_vals**2)\n",
    "\n",
    "    # checking if radial dist < 1    i.e in circle\n",
    "    N_circle = sum(radial_dists<1)\n",
    "\n",
    "    pi_est = (4*N_circle)/N\n",
    "    errors.append(abs(np.pi - pi_est))\n",
    "    # outputs\n",
    "    #print('The value for the estimate of pi is', pi_est)\n",
    "    #print('Meaning we have an error of', abs(np.pi - pi_est))\n",
    "    #print('Which was obtained using', N, 'points.')\n",
    "    #print('----------------------------------------------------------------')\n",
    "\n",
    "plt.plot(N_vals, errors, marker='x', linestyle='')\n",
    "plt.xscale('log')\n",
    "plt.yscale('log')\n",
    "plt.xlabel('N')\n",
    "plt.ylabel('Abs Error in $\\pi$')\n",
    "plt.show()\n",
    "### END SOLUTION"
   ]
  },
  {
   "cell_type": "markdown",
   "metadata": {
    "nbgrader": {
     "grade": false,
     "grade_id": "cell-5af049c3f621656a",
     "locked": true,
     "schema_version": 1,
     "solution": false
    }
   },
   "source": [
    "## 6.2) MC estimation errors decrease slowly, $N^{-1/2}$\n",
    "\n",
    "As with essentially all numerical methods, MC methods do not\n",
    "calculate exact answers, they calculate approximate estimates.\n",
    "In fact MC methods give answers that are typically not that accurate, often\n",
    "there are uncertainties of at least a few $\\%$.\n",
    "This is because the error bars on quantities estimated\n",
    "using MC methods usually only\n",
    "decrease in size as $1/N^{1/2}$, which is a slow decrease:\n",
    "we need to multiply $N$ by 100 to reduce the error by a factor of 10.\n",
    "This is a direct consequence of what is called the Central Limit\n",
    "Theorem (CLT) of statistics. See any statistics textbook, the Wikipedia page, etc,\n",
    "for definitions of the CLT.  https://en.wikipedia.org/wiki/Central_limit_theorem\n",
    "\n",
    "The CLT is part of the second year Energy and Entropy lectures as\n",
    "it is very important in statistical physics. It will be discussed later in this \n",
    "notebook.\n",
    "\n",
    "For the MC estimation of $\\pi$, the error as a function of $N$\n",
    "is what you just worked out in the second half of the task. \n",
    "Note that we need $N$ of order 1 million to get\n",
    "$\\pi$ with an accuracy of one part in a thousand. The\n",
    "error decreases with increasing $N$, just as the error in integrating\n",
    "an ODE decreases as the step size $h$ decreases. However, the error in MC\n",
    "methods is statistical, i.e., is random. If you change the random numbers\n",
    "in your program then the error will change, it may get bigger or smaller.\n",
    "Although on average the error is approximately $1/N^{1/2}$,\n",
    "as it is statistical sometimes by chance it is a bit bigger and sometimes\n",
    "it is a bit smaller."
   ]
  },
  {
   "cell_type": "code",
   "execution_count": null,
   "metadata": {},
   "outputs": [],
   "source": []
  },
  {
   "cell_type": "code",
   "execution_count": null,
   "metadata": {},
   "outputs": [],
   "source": []
  }
 ],
 "metadata": {
  "celltoolbar": "Create Assignment",
  "kernelspec": {
   "display_name": "Python 3",
   "language": "python",
   "name": "python3"
  },
  "language_info": {
   "codemirror_mode": {
    "name": "ipython",
    "version": 3
   },
   "file_extension": ".py",
   "mimetype": "text/x-python",
   "name": "python",
   "nbconvert_exporter": "python",
   "pygments_lexer": "ipython3",
   "version": "3.6.4"
  }
 },
 "nbformat": 4,
 "nbformat_minor": 2
}
