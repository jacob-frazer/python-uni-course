{
 "cells": [
  {
   "cell_type": "markdown",
   "metadata": {
    "nbgrader": {
     "grade": false,
     "grade_id": "cell-f6666086b79f74a7",
     "locked": true,
     "schema_version": 1,
     "solution": false
    }
   },
   "source": [
    "# <center>Introductory numerical physics & Numerically solving the equations for radioactive decay and for oscillatory motion\n",
    "\n",
    "\n",
    " <center>Department of Physics, University of Surrey module: Energy, Entropy and Numerical Physics (PHY2063)"
   ]
  },
  {
   "cell_type": "markdown",
   "metadata": {},
   "source": [
    "## Table of Contents:\n",
    "\n",
    "* [Numerical Physics part of Energy, Entropy and Numerical Physics](#EENP-intro)\n",
    "* [Background to numerically solving first and second order ODEs](#ode-background)\n",
    "* [Solving a single first-order ODE on a computer: Euler Method](#euler-method)\n",
    "* [Task 1](#Task-1)\n",
    "* [Solving ODEs using a Python ODE solver](#ode-solver)\n",
    "* [Task 2](#Task-2)\n",
    "* [$F = ma$ as an example of a second-order differential equation](#2nd-order-ode)\n",
    "* [Task 3](#Task-3)"
   ]
  },
  {
   "cell_type": "markdown",
   "metadata": {
    "nbgrader": {
     "grade": false,
     "grade_id": "cell-fcd26299e06875e0",
     "locked": true,
     "schema_version": 1,
     "solution": false
    }
   },
   "source": [
    "#### Learning Objectives:\n",
    "> Revision of technique to solve first and second order ODEs, also revision of taylor series\n",
    "\n",
    "> Introduce Euler method as a means of computationally solving these equations\n",
    "\n",
    "> Use Euler method to accurately demonstrate the decay of a radioactive sample\n",
    "\n",
    "> Introduce concept of utilising python packages for prebuilt solutions\n",
    "\n",
    "> Use scipy's prebuild ODEint function to solve equations more efficiently\n",
    "\n",
    "\n",
    "## 1) Introduction to the Numerical Physics part of Energy, Entropy and Numerical Physics <a class=\"anchor\" id=\"EENP-intro\"></a>\n",
    "\n",
    "This numerical physics course is part of the second-year\n",
    "Energy, Entropy and Numerical Physics module (PHY2063),\n",
    "and is online at the EENP module on SurreyLearn.\n",
    "See there for assignments, deadlines etc.\n",
    "\n",
    "Very few models in physics can be solved analytically with just pen and paper.\n",
    "Therefore most predictions\n",
    "and modelling done in physics requires numerically solving the equations of the model.\n",
    "This is true for electromagnetism, quantum physics (including nuclear and particle physics),\n",
    "astrophysics, soft matter physics, etc.\n",
    "This course introduces numerical physics through\n",
    "some simple common examples, and discusses general\n",
    "points about numerical physics, in particular the key problem of estimating\n",
    "how accurate the numerical solution is.\n",
    "\n",
    "It is taught using Python, which is a good language for numerical physics;\n",
    "One of the main strengths of Python is its modularity and so it often makes it trivial to solve \n",
    "otherwise complex problems by simply importing a module that has a premade solution. Additionally\n",
    "it is widely used throughout scientific communities meaning there are many very useful and efficient\n",
    "scientific modules that you will become familiar with during this course. Additionally Python is\n",
    "widely used outside of academia and so it is a very useful skill to have regardless of what career\n",
    "path you intend to follow. However almost all high performance computing (e.g., solving large PDEs,\n",
    "quantum matrix problems, molecular dynamics, fluid mechanics, etc) is done using Fortran or C. So Python\n",
    "is by no means the best at every aspect of computing, however for the size of the problems you will be \n",
    "handling python will be more than sufficient. The numerical physics skills you will learn using Python \n",
    "will be transferable to number crunching applications in other computer languages. And the coding \n",
    "skills are transferable to a huge variety of other tasks people use computers to do.\n",
    "\n",
    "The course looks at numerically solving ODEs (ordinary differential equations) and\n",
    "PDEs (partial differential equations), and introduces the numerical modelling\n",
    "of random processes, using both \n",
    "a very widely used numerical\n",
    "technique called Monte Carlo (MC), and the use of Bayesian statistics.\n",
    "MC is used a lot in fields from statistical physics,\n",
    "to nuclear and particle physics. \n",
    "Bayesian statistics is used from particle physics to predictive text on mobile phones.\n",
    "A lot of modelling in physics is based on PDEs,\n",
    "from heat and mass flows in statistical physics, a lot of electromagnetism and\n",
    "quantum physics, etc. And the numerical techniques we will learn\n",
    "are also used extensively outside\n",
    "physics, for example to model share prices in stock markets.\n",
    "Increasing numbers of graduates in physics (and related subjects) are going\n",
    "into data science, which uses many models of random processes such as Monte Carlo modelling\n",
    "and Bayesian statistics.\n",
    "\n",
    "Examples of ODEs are the equations for radioactive decay and for a mass attached\n",
    "to a spring.\n",
    "PDEs are even more common in physics than ODEs, for example, Schrödinger's\n",
    "time-independent equation in three dimensions is a PDE, Maxwell's equations\n",
    "which govern electromagnetism (including light), and the wave equation,\n",
    "are all PDEs. In many cases (all except very simple cases) we cannot\n",
    "solve them analytically, and so can only solve them numerically.\n",
    "\n",
    "### 1.1) Course structure\n",
    "\n",
    "The autumn semester computing is composed of 3 sections, ODEs, PDEs and Data Analysis.\n",
    "Of these data analysis is the largest and made up of several subsections, Probability and Monte Carlo\n",
    "methods, uncertainty estimates, fitting.\n",
    "\n",
    "Each topic will have an assignment, the first (ODEs) is formative. The second assignment is mainly based on the quality of the\n",
    "code that you produce and then the final assignment has you write a small report alongside some code \n",
    "in order to demonstrate greater understanding.\n",
    "\n",
    "\n"
   ]
  },
  {
   "cell_type": "markdown",
   "metadata": {
    "nbgrader": {
     "grade": false,
     "grade_id": "cell-f621c2de542938ad",
     "locked": true,
     "schema_version": 1,
     "solution": false
    }
   },
   "source": [
    "## 2) Background to numerically solving first and second order ODEs <a class=\"anchor\" id=\"ode-background\"></a>\n",
    "\n",
    "We will start with a very simple example, the ODE for the mass of a radioactive isotope remaining\n",
    "after a time $t$, $M(t)$.\n",
    "If the rate of\n",
    "decay of the isotope is $r$ then the ODE is\n",
    "\n",
    "$$\n",
    "\\frac{{\\rm d}M(t)}{{\\rm d}t}=-rM(t)\n",
    "$$\n",
    "\n",
    "and if the decay rate $r=0.3$s$^{-1}$ then\n",
    "\n",
    "$$\n",
    "\\frac{{\\rm d}M(t)}{{\\rm d}t}=-0.3M(t)\n",
    "$$\n",
    "\n",
    "Now as this a first-order ODE we know to obtain a particular solution we\n",
    "need ${\\bf exactly~one}$ boundary condition (BC).\n",
    "Usually this is the value of the mass of the isotope at time $t=0$.\n",
    "If for example, $M(t=0)=0.1$kg then the particular solution is\n",
    "\n",
    "$$\n",
    "M(t)=M(t=0)\\exp(-rt)=0.1\\exp(-0.3t)\n",
    "$$\n",
    "\n",
    "this is the familiar exponential decay of the amount of remaining\n",
    "isotope.\n",
    "\n",
    "This is just one example,\n",
    "ODEs are common in physics, e.g., the time-independent\n",
    "one-dimensional Schrodinger equation is a second order ODE\n",
    "\n",
    "$$\n",
    "-\\frac{\\hbar^2}{2m}\\frac{{\\rm d}^2\\psi(x)}{{\\rm d}x^2}+\n",
    "V(x)\\psi(x)=E\\psi(x)\n",
    "$$\n",
    "\n",
    "which we need to solve for the wavefunction $\\psi(x)$ and energy $E$.\n",
    "Here $V(x)$ is the potential energy function.\n",
    "Another ODE is the equation for a mass $m$ attached to a spring\n",
    "of spring constant $k$\n",
    "\n",
    "$$\n",
    "m\\frac{{\\rm d}^2x}{{\\rm d}t^2}=-kx\n",
    "$$\n",
    "\n",
    "where we want to solve for the position as a function of time, $x(t)$. \n",
    "\n",
    "\n",
    "\n",
    "### 2.1) Taylor Series Revision\n",
    "To get the formula for the Euler method we will need\n",
    "the Taylor series expansion expression for the value of $M(t)$\n",
    "at the point $t_f=t_s+h$ in terms of $M$ and its derivatives at the nearby point\n",
    "$t=t_s$. Nearby means that the distance $h$ between the two points is small.\n",
    "You did the Taylor series in first year maths.\n",
    "The series expansion for the point $t=t_s$ is\n",
    "\n",
    "<center>$M(t_f)=M(t_s+h)=M(t_s)+h\\left(\\frac{{\\rm d}M}{{\\rm d}t}\\right)_{t_s}\n",
    "+\\frac{1}{2}h^2\\left(\\frac{{\\rm d}^2M}{{\\rm d}t^2}\\right)_{t_s}+ .... $\n",
    "\n",
    "where the subscripts $t_s$ indicate that the derivatives are evaluated at\n",
    "the point $t=t_s$.\n",
    "\n",
    "We can also write this as\n",
    "\n",
    "<center>$M_f=M_s+hM'_s+\\frac{1}{2}h^2M_s''+ ....$\n",
    "\n",
    "where I use the standard notation of a dash to indicate the first derivative, and\n",
    "two dashes to indicate the second derivative. Here $M_f=M(t_f)$, $M_s=M(t_s)$, $M_s'=M'(t_s)$\n",
    "and $M_s''=M''(t_s)$.\n",
    "If $h$ is small we can drop all but the first two terms\n",
    "\n",
    "<center>$M_f\\simeq M_s+hM'_s$\n",
    "\n",
    "Note that $M(t)$ denotes a function $M$ of the variable $t$ but $M_s$ and $M'_s$\n",
    "are not functions they are just numbers, the values of the functions $M$ and $M'$\n",
    "at the point $t_s$."
   ]
  },
  {
   "cell_type": "markdown",
   "metadata": {
    "nbgrader": {
     "grade": false,
     "grade_id": "cell-c68e3fe9d7f8bd1a",
     "locked": true,
     "schema_version": 1,
     "solution": false
    }
   },
   "source": [
    "## 3) Solving a single first-order ODE on a computer: Euler Method <a class=\"anchor\" id=\"euler-method\"></a>\n",
    "\n",
    "We will introduce the simple Euler method\n",
    "for numerically integrating an ODE, and then also introduce\n",
    "the more accurate and slightly more complex modified Euler method.\n",
    "For all methods of solution it is important to remember that\n",
    "for a first-order ODE\n",
    "the solution of a\n",
    "first order ordinary differential equation requires a single boundary\n",
    "condition to be specified (this is usually an initial condition). The\n",
    "specification of the value of the required function at a single point\n",
    " is thus\n",
    "necessary to generate the required solution.\n",
    "\n",
    "So we would like to solve the\n",
    "first-order ODE\n",
    "\n",
    "<center>$\\frac{{\\rm d}M(t)}{{\\rm d}t}=-rM(t)$ &emsp;&emsp;&emsp; $r=0.3~{\\rm s}^{-1}$</center><br>\n",
    "\n",
    "with the BC $M(t=0)=0.1$, and\n",
    "over some range of values of $t$, say from $t=0$\n",
    "to $t=30$~s.\n",
    "\n",
    "The above ODE is just an example of a first order ODE, in general\n",
    "the derivative is some function of the variable, here $t$.\n",
    "The key point to take from the above equation is that\n",
    "at any point along the $t$ axis the equation does not tell us\n",
    "what we ultimately want to know, the value of the function\n",
    "$M(t)$, but it does tell us the slope of the function, i.e., how fast\n",
    "it is changing."
   ]
  },
  {
   "cell_type": "code",
   "execution_count": 2,
   "metadata": {
    "nbgrader": {
     "grade": false,
     "grade_id": "cell-6550812111ee4c70",
     "locked": true,
     "schema_version": 1,
     "solution": false
    }
   },
   "outputs": [],
   "source": [
    "# useful imports for arrays and plotting capabilities\n",
    "import numpy as np\n",
    "%matplotlib inline\n",
    "from matplotlib import pyplot as plt\n",
    "\n",
    "# constants and initial boundary conditions\n",
    "r_decay = 0.3\n",
    "t_start = 0\n",
    "t_final = 30\n",
    "mass_initial = 0.1"
   ]
  },
  {
   "cell_type": "markdown",
   "metadata": {
    "nbgrader": {
     "grade": false,
     "grade_id": "cell-ac604e429cf0db08",
     "locked": true,
     "schema_version": 1,
     "solution": false
    }
   },
   "source": [
    "### 3.1) The Euler Method\n",
    "\n",
    "The Euler method  works by dividing the range between $t=0$ and $t=30$~s\n",
    "into many small\n",
    "intervals each of length $h$: this\n",
    "is called the step length. For example, if $h=0.1$, then\n",
    "Euler's method of solving an ODE starts from $t=0$ and\n",
    "integrates from there to $t=30$~s, in $30/0.1=300$ little steps, each $0.1$ in size..\n",
    "The method works one step of length $h$ at a time.\n",
    "\n",
    "We start at the point $t=0$. At that point we use the known value of\n",
    "$M(t=0)$ to calculate\n",
    "the value of the function a distance $h$ away along the time axis,\n",
    "i.e., we calculate $M(t=h)$. Then we use the now known value\n",
    "of $M(t=h)$ to calculate the slope at $t=h$, and so calculate\n",
    "$M(t=2h)$, and by repeating this we integrate along the $t$ axis.\n",
    "\n",
    "\n",
    "#### 3.1.1) Single Euler Step\n",
    "Euler's algorithm for a single step starts with a point along the $t$-axis,\n",
    "call it $t_s$ where we know the value of the function $M(t_s)=M_s$\n",
    "and its derivative, $M'(t_s)=M'_s$. Note that as $M'$ is a known function\n",
    "of $t$ and $M$ (this is the ODE) whenever we know $t$ and $M$ we can calculate $M'$.\n",
    "We need the expression we got from truncating the Taylor series in the box above.\n",
    "This is\n",
    "\n",
    "<center>$M_f\\simeq M_s+hM'_s$<br></center>\n",
    "\n",
    "this tells us how to calculate the value of the function $M(t)$ at the end\n",
    "of the step, $M_f$, in terms of the value of the function at the start\n",
    "of the step, $M_s$ {\\em and} its derivative at the start of the step, $M'_s$.\n",
    "You can start writing a program to solve an ODE, by writing one to do a single\n",
    "step like this.\n",
    "\n",
    "In terms of what we need to calculate in a single step, it looks like\n",
    "\n",
    "<center>$M_s'=-rM_s$</center><br>\n",
    "<center>$t_f =t_s+h$</center><br>\n",
    "<center>$M_f =M_s+hM_s'$</center><br>\n",
    "\n",
    "where I have picked sensible variable names. You should always use sensible\n",
    "variable names as this makes debugging much easier. With poor variable names,\n",
    "if you leave a program for a few days, it can be difficult for you to remember how it works.\n",
    "These lines implement one step, and at the end of this step, $t_f$ \n",
    "(${\\tt t\\_final}$) and\n",
    "$M_f$ (${\\tt mass\\_final}$) are the values of $t$ a distance $h$ along the $t$-axis, and\n",
    "our estimate for the $M$ value there, respectively.\n",
    "\n",
    "#### 3.1.2) Obtaining the complete function (array)\n",
    "\n",
    "To obtain the complete function $M(t)$ from $t=0$ to $t=30$~s,\n",
    "at the discrete set of points $t=0,h,2h,3h, ... , 30$, we need\n",
    "to appreciate that once we discretise the time axis into\n",
    "a grid of spacing $h$, the function $M$ becomes an array\n",
    "\n",
    "${M(0), M(h), M(2h), ..., M(30.0)} → \\{ {\\tt mass(0)}, {\\tt mass(1)}, {\\tt mass(2)}, ... , {\\tt mass(300)}\\}$\n",
    "\n",
    "where on the left hand side we have the function of time $t$, and\n",
    "on the right hand side we have the array with its elements denoted by\n",
    "$i$, which is an integer.\n",
    "This is\n",
    "if $h=0.1$~s, and so we need array elements 0 to 300 to have enough\n",
    "elements to go from $t=0$ to $t=30$s in steps of 0.1.\n",
    "\n",
    "Then both the time and mass arrays can be calculated in increments of one step"
   ]
  },
  {
   "cell_type": "code",
   "execution_count": 3,
   "metadata": {
    "nbgrader": {
     "grade": false,
     "grade_id": "cell-331ec09ce84a3821",
     "locked": true,
     "schema_version": 1,
     "solution": false
    }
   },
   "outputs": [],
   "source": [
    "# step size in seconds\n",
    "h = 0.1\n",
    "\n",
    "# calculating values 1 step forwards in time\n",
    "massdash = -r_decay*mass_initial\n",
    "t_final = t_start + h\n",
    "mass_final = mass_initial + h*massdash"
   ]
  },
  {
   "cell_type": "markdown",
   "metadata": {
    "nbgrader": {
     "grade": false,
     "grade_id": "cell-d59144b747c7528a",
     "locked": true,
     "schema_version": 1,
     "solution": false
    }
   },
   "source": [
    "in the first line of the loop we calculate the derivative (which we don't need\n",
    "to be an array), then in the next two lines we calculate\n",
    "the next values of the arrays ${\\tt time}$ and ${\\tt mass}$.\n",
    "\n",
    "### Task 1 <a class=\"anchor\" id=\"Task-1\"></a>\n",
    "\n",
    "Write a Python program to evaluate the solution of the first-order ordinary\n",
    "differential equation for radioactive decay at a rate $r=0.3$s$^{-1}$\n",
    "\n",
    "$$\n",
    "\\frac{{\\rm d}M(t)}{{\\rm d}t}=-0.3M(t)\n",
    "$$\n",
    "\n",
    "with the single BC $M(t=0)=0.1$kg. Obtain the mass as a function of time\n",
    "from $t=0$s to $t=30$s, in steps of $0.1$s (300 steps).\n",
    "Note that here we know the solution, it is\n",
    "\n",
    "$$\n",
    "M(t)=M(t=0)\\exp(-rt)=0.1\\exp(-0.3t)\n",
    "$$\n",
    "\n",
    "When you write any program, it is always best to at first get it to calculate\n",
    "something you know already, so you can compare solution\n",
    "to what you know it should be to check and debug\n",
    "the program. Then later you and modify the program you know works to do something new.\n",
    "\n",
    "When you have the exact solution this is not only helpful to debug the program,\n",
    "you can use to see how accurate the solution is, for example as you vary $h$.\n",
    "As $h\\to0$ then the solution\n",
    "is exact but then you calculate an infinite number of points,\n",
    "which is not possible. So for $h>0$ the array you calculate\n",
    "is approximate. Basically all numerical physics is approximate,\n",
    "at least to some degree.\n",
    "\n",
    "Check your program by plotting the values it gives you and the true values on the same graph. If it works the lines should be basically on top of one another."
   ]
  },
  {
   "cell_type": "code",
   "execution_count": 4,
   "metadata": {
    "nbgrader": {
     "grade": false,
     "grade_id": "cell-c36c1e40153c87e9",
     "locked": false,
     "schema_version": 1,
     "solution": true
    }
   },
   "outputs": [
    {
     "name": "stdout",
     "output_type": "stream",
     "text": [
      "0.0010369555489464187\n",
      "0.0011108996538242435\n"
     ]
    },
    {
     "data": {
      "image/png": "[encoded data removed]",
      "text/plain": [
       "<matplotlib.figure.Figure at 0x205a3bc3ba8>"
      ]
     },
     "metadata": {},
     "output_type": "display_data"
    }
   ],
   "source": [
    "# Write Euler method solution code here...\n",
    "\n",
    "### BEGIN SOLUTION\n",
    "\n",
    "# initialise mass and time arrays + add starting boundary conditions.\n",
    "massEuler = np.empty(301)\n",
    "time = np.empty(301)\n",
    "\n",
    "massEuler[0] = mass_initial\n",
    "time[0] = t_start\n",
    "h = 0.1\n",
    "\n",
    "for i in range(300):\n",
    "    massdash = -r_decay*massEuler[i]\n",
    "    time[i+1] = time[i] + h\n",
    "    massEuler[i+1] = massEuler[i] + h*massdash\n",
    "\n",
    "# plotting the array values from the Euler method and the true solution\n",
    "true_masses = np.array([0.1*np.exp(-0.3*t) for t in time])\n",
    "\n",
    "plt.ylabel('Mass of Sample (kg)')\n",
    "plt.xlabel('Time elapsed (s)')\n",
    "plt.plot(time, massEuler, lw=4, c='r',linestyle='--')\n",
    "plt.plot(time, true_masses, lw=3)\n",
    "\n",
    "# Note the values aren't exactly the same as can be seen when you inspect a specific increment.\n",
    "print(massEuler[150])\n",
    "print(true_masses[150])\n",
    "\n",
    "### END SOLUTION"
   ]
  },
  {
   "cell_type": "markdown",
   "metadata": {
    "nbgrader": {
     "grade": false,
     "grade_id": "cell-792f1290ba03a296",
     "locked": true,
     "schema_version": 1,
     "solution": false
    }
   },
   "source": [
    "#### Task 1A: estimating the accuracy of a numerical solution\n",
    "\n",
    "You should write the difference between the array $M(i)$ and\n",
    "the exact solution, as a function of time, to an array, and plot it to see how big\n",
    "the error is. You should then decrease $h$ (remembering\n",
    "to increase the size of the array).\n",
    "How big is the largest difference between your numerical solution, and the\n",
    "exact solution, for 300 steps and $h=0.1$~s? How big is the largest\n",
    "difference when you reduce the number of steps to 100 (and so $h=0.3$~s)?\n",
    "\n",
    "You should\n",
    "find that the error varies approximately\n",
    " linearly with $h$. So the smaller is $h$ the more accurate is\n",
    "the solution, but of course the slower the program runs. This is not such a big problem\n",
    "for ODEs, but it is much more serious for PDEs.\n",
    "\n",
    "Once you have the error for your chosen value of $h$, it is good idea to write\n",
    "out the estimated accuracy of the solution to screen (just as you would quote error\n",
    "bars in a value you determine in an experiment), for example write to the screen\n",
    "\n",
    "${\\tt solution~for~mass~estimated~to~be~accurate~to~3~decimal~places~for~timestep~=0.01}$\n",
    "\n",
    "Note that the error on some points will be bigger than on other points, the error you write\n",
    "to the terminal should be the largest error in any point.\n",
    "\n",
    "You should also adjust the formatting of writing numbers\n",
    "such as ${\\tt mass}$, ${\\tt time}$, etc to the screen, to be around 1 decimal place\n",
    "more than the accuracy. So if the error is estimated to be in the 4th decimal place\n",
    "then a good format would be ${\\tt \\%9.5f}$, which writes numbers to 5 decimal places.\n",
    "As the accuracy will be greater for some points than for others, you will typically want \n",
    "to write numbers with a number of decimal places large enough to be larger than\n",
    "the accuracy of most or all points. However, this will vary a little from one problem to\n",
    "another so some judgement is often needed here.\n",
    "\n",
    "You should use the package pyplot from matplotlib to do the relevant plotting that was imported earlier. The package is fully documented at: https://matplotlib.org/"
   ]
  },
  {
   "cell_type": "code",
   "execution_count": 10,
   "metadata": {
    "nbgrader": {
     "grade": false,
     "grade_id": "cell-5ab8359f1e7f39ab",
     "locked": false,
     "schema_version": 1,
     "solution": true
    }
   },
   "outputs": [
    {
     "data": {
      "text/plain": [
       "[<matplotlib.lines.Line2D at 0x205a3fea860>]"
      ]
     },
     "execution_count": 10,
     "metadata": {},
     "output_type": "execute_result"
    },
    {
     "data": {
      "image/png": "[encoded data removed]",
      "text/plain": [
       "<matplotlib.figure.Figure at 0x205a52ff390>"
      ]
     },
     "metadata": {},
     "output_type": "display_data"
    }
   ],
   "source": [
    "# Write mass error calculation and plotting code here...\n",
    "\n",
    "### BEGIN SOLUTION\n",
    "mass_error = np.empty(301)\n",
    "\n",
    "for i in range(301):\n",
    "    mass_error[i] = abs(massEuler[i]-true_masses[i])\n",
    "  \n",
    "plt.ylabel('Error in Mass of Sample (kg)')\n",
    "plt.xlabel('Time elapsed (s)')\n",
    "plt.plot(time, mass_error, lw=2, c='r',linestyle='--')\n",
    "### END SOLUTION"
   ]
  },
  {
   "cell_type": "markdown",
   "metadata": {
    "nbgrader": {
     "grade": false,
     "grade_id": "cell-b67b488d737e4c00",
     "locked": true,
     "schema_version": 1,
     "solution": false
    }
   },
   "source": [
    "## 4) Solving ODEs using a Python ODE solver <a class=\"anchor\" id=\"ode-solver\"></a>\n",
    "\n",
    "One of the main advantages of using python is it's modularity. This coupled with it's wide use in the scientific community means that for many problems rather than having to create your own solution it is easy to import a module which has a function built in to do it for you. \n",
    "\n",
    "So in our case we are going to use the ${\\tt scipy.integrate}$ module as this has functions that will allow us to solve our radioactive sample problem. We will be using the odeint function this function solves a system of ordinary differential equations using lsoda from the FORTRAN library odepack. In order to run it requires us to input 3 things, firstly the function of the ODE, which we need to define, so in our case:  \n",
    "\n",
    "$$\\frac{{\\rm d}M(t)}{{\\rm d}t}=-0.3M(t)$$\n",
    "\n",
    "The next two inputs are the initial value of $M$ (so at $t=0$) and then the time array for which to solve for $M$. Additionally we also give it a value for rtol, this is an optional argument (unlike the previous three) which allows us to define the tolerance or error we are permitting for the solution from the ODE. If you plot the error and play around with this value you can see how it effects the directly."
   ]
  },
  {
   "cell_type": "markdown",
   "metadata": {
    "nbgrader": {
     "grade": false,
     "grade_id": "cell-f2046e67581e1a89",
     "locked": true,
     "schema_version": 1,
     "solution": false
    }
   },
   "source": [
    "Again we can check the accuracy of this by comparing it to the true values we have calculated as well as plotting it on a graph.\n",
    "\n",
    "You'll often find that when using Python there is already a function that does whatever you're trying to do, typically it is just a matter of adjusting your problem to be in the same format. It's rare you will have a problem in which you will need to undertake entirely using your own functionality.  \n",
    "\n",
    "### Task 2 <a class=\"anchor\" id=\"Task-2\"></a>\n",
    "\n",
    "Write a python program that utilises scipy.integrate in order to solve an ODE. Compare the errors of this solution to that of the Euler method. You should find that the errors in this method are far lower, that is because all of the functions that are used in numpy and scipy have been well written to optimise both speed and accuracy (although obviously there is a trade-off between the two). How does the error compare as you change the value of rtol? What happens if instead of using rtol (relative tolerance) you pass an input of atol (absolute tolerance)?"
   ]
  },
  {
   "cell_type": "code",
   "execution_count": 12,
   "metadata": {
    "nbgrader": {
     "grade": false,
     "grade_id": "cell-b2c7478caaa185ed",
     "locked": false,
     "schema_version": 1,
     "solution": true
    }
   },
   "outputs": [
    {
     "data": {
      "text/plain": [
       "<matplotlib.legend.Legend at 0x205a58ad080>"
      ]
     },
     "execution_count": 12,
     "metadata": {},
     "output_type": "execute_result"
    },
    {
     "data": {
      "image/png": "[encoded data removed]",
      "text/plain": [
       "<matplotlib.figure.Figure at 0x205a5305b38>"
      ]
     },
     "metadata": {},
     "output_type": "display_data"
    }
   ],
   "source": [
    "import scipy.integrate \n",
    "\n",
    "def ODE(m,t):\n",
    "    dmdt = -0.3*m\n",
    "    return dmdt\n",
    "\n",
    "massODEINT = scipy.integrate.odeint(ODE, mass_initial, time, rtol=1e-5)\n",
    "\n",
    "# Put the code to plot the errors of the two solving methods here...\n",
    "### BEGIN SOLUTION\n",
    "plt.ylabel('Error in Mass of Sample (kg)')\n",
    "plt.xlabel('Time elapsed (s)')\n",
    "\n",
    "plt.scatter(time, massODEINT[:,0]-true_masses, s=1, c='r', label='ODE solver')\n",
    "plt.scatter(time, massEuler-true_masses, s=1, c='b', label='Euler Method')\n",
    "plt.ylim([-1e-3,1e-3])\n",
    "plt.legend()\n",
    "### END SOLUTION"
   ]
  },
  {
   "cell_type": "markdown",
   "metadata": {
    "nbgrader": {
     "grade": false,
     "grade_id": "cell-f7449647f1fa4f70",
     "locked": true,
     "schema_version": 1,
     "solution": false
    }
   },
   "source": [
    "## 5) $F = ma$ as an example of a second-order differential equation <a class=\"anchor\" id=\"2nd-order-ode\"></a>\n",
    "\n",
    "Here we will study the second-order ODE we get from a mass $m$ attached to a spring\n",
    "of spring constant $k$\n",
    "\n",
    "$$\n",
    "\\frac{{\\rm d}^2x}{{\\rm d}t^2}=-\\frac{k}{m}x\n",
    "$$\n",
    "\n",
    "where we want to solve for the position as a function of time, $x(t)$. \n",
    "This is done by splitting it into two first-order ODEs, using\n",
    "\n",
    "$$\n",
    "\\frac{{\\rm d}x}{{\\rm d}t}=v\n",
    "$$\n",
    "\n",
    "for $v(t)$ the velocity of the particle. Then we have two coupled\n",
    "first-order ODEs\n",
    "\n",
    "$$\n",
    "\\frac{{\\rm d}x}{{\\rm d}t}=v~~~~~~~\\frac{{\\rm d}v}{{\\rm d}t}=-\\frac{k}{m}x\n",
    "$$\n",
    "\n",
    "which we solve simultaneously for $x(t)$ and $v(t)$.\n",
    "To do this we need the values of $k$ and $m$, as examples\n",
    "we take $k=5$N/m and $m=1$kg. Then the two ODEs are\n",
    "\n",
    "$$\n",
    "\\frac{{\\rm d}x}{{\\rm d}t}=v~~~~~~~\\frac{{\\rm d}v}{{\\rm d}t}=-5x\n",
    "$$\n",
    "\n",
    "As we have two first-order ODEs we also need two BCs. Here these\n",
    "are the initial positions and velocities, e.g.,\n",
    "$v(t=0)=0$m/s and $x(t=0)=0.1$m.\n",
    "\n",
    "We start with the Euler method for integrating two coupled ODEs simultaneously. The\n",
    "code for one Euler step is"
   ]
  },
  {
   "cell_type": "code",
   "execution_count": 13,
   "metadata": {
    "nbgrader": {
     "grade": false,
     "grade_id": "cell-cf3e9d626dee4065",
     "locked": true,
     "schema_version": 1,
     "solution": false
    }
   },
   "outputs": [],
   "source": [
    "# initialising arrays\n",
    "t=np.empty(2)\n",
    "x=np.empty(2)\n",
    "v=np.empty(2)\n",
    "\n",
    "t[0] = 0\n",
    "x[0] = 0.1\n",
    "v[0] = 0\n",
    "h = 0.01\n",
    "i = 0\n",
    "\n",
    "dxdt = v[i]\n",
    "dvdt = -5*x[i]\n",
    "t[i+1] = t[i] + h\n",
    "x[i+1] = x[i] + h*dxdt\n",
    "v[i+1] = v[i] + h*dvdt"
   ]
  },
  {
   "cell_type": "markdown",
   "metadata": {
    "nbgrader": {
     "grade": false,
     "grade_id": "cell-ad5a7aadcb2c2f9c",
     "locked": true,
     "schema_version": 1,
     "solution": false
    }
   },
   "source": [
    "Iterating this integrates the particle's position and velocity in time. Note here\n",
    "${\\tt x}$ and ${\\tt v}$ are arrays but ${\\tt dxdt}$ and ${\\tt dvdt}$ are just variables.\n",
    "\n",
    "Like the previous example this too can be done using the scipy.integrate package. However there is an added complexity due to it being second order so the function we need to define has to contain both parts of the solution we are interested in. This means you will need the function to return a list of values rather than just the one value."
   ]
  },
  {
   "cell_type": "markdown",
   "metadata": {
    "nbgrader": {
     "grade": false,
     "grade_id": "cell-c8e68ca4225cc14c",
     "locked": true,
     "schema_version": 1,
     "solution": false
    }
   },
   "source": [
    "### Task 3 <a class=\"anchor\" id=\"Task-3\"></a>\n",
    "\n",
    "Solve the two coupled ODEs\n",
    "\n",
    "$$\n",
    "\\frac{{\\rm d}x}{{\\rm d}t}=v~~~~~~~\\frac{{\\rm d}v}{{\\rm d}t}=-5x\n",
    "$$\n",
    "\n",
    "with the two BCs that\n",
    "are the initial positions and velocities:\n",
    "$v(t=0)=0$m/s and $x(t=0)=0.1$m. Solve from $t=0$\n",
    "to $t=10$s. Use 1000 steps.\n",
    "\n",
    "First use the Euler method, then after you have checked that works,\n",
    "do it using the scipy.integrate package. Make sure you understand the ODE function as it is more complicated now it is second order. \n",
    "\n",
    "If you compare the two solutions at the same step size\n",
    "you will see that the solution using the scipy.optimise method is a lot more accurate.\n",
    "The exact solution of these ODEs with these BCs is known, it is\n",
    "\n",
    "$$\n",
    "x(t)=0.1\\cos(\\sqrt{5}t)\n",
    "$$\n",
    "\n",
    "Show that the solution is $x(t)=0.1\\cos(\\sqrt{5}t)$,\n",
    "by plotting the array you obtain for $x$ by numerically solving\n",
    "these ODEs, as well as the $x$ values given by this function.\n",
    "\n",
    "Plot both your calculated $x$  values and the exact $x$ values\n",
    "on the same plot. If your program is working correctly and you have\n",
    "chosen a small enough step length the two curves will be almost on top\n",
    "of each other. You can quantify this by in addition plotting the\n",
    "difference between the exact solution and your numerical solution.\n",
    "How big is the largest difference between your numerical solution, and the\n",
    "exact solution, for 1000 steps and $h=0.01$s? How big is the largest\n",
    "difference when you reduce the number of steps to 100 (and so $h=0.1$s)?\n",
    "\n",
    "What this task should demonstrate to you is building a model of an oscillator. Since there is no driving force it should show constant amplitude oscillations. In the assignment you will see oscillation with a driving force so variable amplitudes can be observed for instance if you make the driving force frequency equal to the natural frequency you should see that it diverges. "
   ]
  },
  {
   "cell_type": "code",
   "execution_count": 14,
   "metadata": {
    "nbgrader": {
     "grade": false,
     "grade_id": "cell-2db184c2c51643cc",
     "locked": false,
     "schema_version": 1,
     "solution": true
    }
   },
   "outputs": [
    {
     "data": {
      "image/png": "[encoded data removed]",
      "text/plain": [
       "<matplotlib.figure.Figure at 0x205a58df4e0>"
      ]
     },
     "metadata": {},
     "output_type": "display_data"
    }
   ],
   "source": [
    "# Write Task 3 code here...\n",
    "\n",
    "### BEGIN SOLUTION\n",
    "\n",
    "def ODE(boundary_conds,t):\n",
    "    x = boundary_conds[0]\n",
    "    v = boundary_conds[1]\n",
    "    \n",
    "    # just needs to be a list with 2 items the empty lists are just used for None\n",
    "    x_dot = [[],[]]\n",
    "    \n",
    "    x_dot[0] = v\n",
    "    x_dot[1] = -5*x\n",
    "    return x_dot\n",
    "\n",
    "task3=scipy.integrate.odeint(ODE, [0.1,0], np.linspace(0,10,1000))\n",
    "true_values = [0.1*np.cos(np.sqrt(5)*t) for t in np.linspace(0,10,1000)]\n",
    "\n",
    "# plotting the x values wrt T \n",
    "plt.plot(np.linspace(0,10,1000),task3[:,0], c='b')\n",
    "plt.plot(np.linspace(0,10,1000),true_values, linestyle='--', c='r')\n",
    "plt.ylabel('X-position (m)')\n",
    "\n",
    "# velocities wrt T\n",
    "plt.plot(np.linspace(0,10,1000),task3[:,1])\n",
    "plt.xlabel('Time elapsed (s)')\n",
    "plt.grid()\n",
    "\n",
    "### END SOLUTION"
   ]
  },
  {
   "cell_type": "code",
   "execution_count": null,
   "metadata": {},
   "outputs": [],
   "source": []
  }
 ],
 "metadata": {
  "celltoolbar": "Create Assignment",
  "kernelspec": {
   "display_name": "Python 3",
   "language": "python",
   "name": "python3"
  },
  "language_info": {
   "codemirror_mode": {
    "name": "ipython",
    "version": 3
   },
   "file_extension": ".py",
   "mimetype": "text/x-python",
   "name": "python",
   "nbconvert_exporter": "python",
   "pygments_lexer": "ipython3",
   "version": "3.6.4"
  }
 },
 "nbformat": 4,
 "nbformat_minor": 2
}
